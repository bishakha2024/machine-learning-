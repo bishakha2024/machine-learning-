{
 "cells": [
  {
   "cell_type": "markdown",
   "metadata": {},
   "source": [
    "# Task 1: Create a Prescription Parser using CRF\n",
    "This task tests your ability to build a Doctor Prescription Parser with the help of CRF model\n",
    "\n",
    "Your job is to build a Prescription Parser that takes a prescription (sentence) as an input and find / label the words in that sentence with one of the already pre-defined labels\n",
    "\n",
    "### Problem: SEQUENCE PREDICTION - Label words in a sentence\n",
    "#### Input : Doctor Prescription in the form of a sentence split into tokens\n",
    "- Ex: Take 2 tablets once a day for 10 days\n",
    "\n",
    "#### Output : FHIR Labels\n",
    "- ('Take', 'Method')\n",
    "- ('2', 'Qty') \n",
    "- ('tablets', 'Form')\n",
    "- ('once', 'Frequency')\n",
    "- ('a', 'Period') \n",
    "- ('day', 'PeriodUnit')\n",
    "- ('for', 'FOR')\n",
    "- ('10', 'Duration')\n",
    "- ('days', 'DurationUnit') "
   ]
  },
  {
   "cell_type": "markdown",
   "metadata": {},
   "source": [
    "### Major Steps\n",
    "- Install necessary library\n",
    "- Import the libraries\n",
    "- Create training data with labels\n",
    "    - Split the sentence into tokens\n",
    "    - Compute POS tags\n",
    "    - Create triples\n",
    "- Extract features\n",
    "- Split the data into training and testing set\n",
    "- Create CRF model\n",
    "- Save the CRF model\n",
    "- Load the CRF model\n",
    "- Predict on test data\n",
    "- Accuracy"
   ]
  },
  {
   "cell_type": "markdown",
   "metadata": {},
   "source": [
    "#### Install necesaary library"
   ]
  },
  {
   "cell_type": "code",
   "execution_count": 1641,
   "metadata": {},
   "outputs": [
    {
     "name": "stdout",
     "output_type": "stream",
     "text": [
      "Requirement already satisfied: scikit-learn in /Applications/anaconda3/lib/python3.12/site-packages (1.5.1)\n",
      "Requirement already satisfied: numpy in /Applications/anaconda3/lib/python3.12/site-packages (1.26.4)\n",
      "Requirement already satisfied: pandas in /Applications/anaconda3/lib/python3.12/site-packages (2.2.2)\n",
      "Requirement already satisfied: nltk in /Applications/anaconda3/lib/python3.12/site-packages (3.9.1)\n",
      "Requirement already satisfied: scipy>=1.6.0 in /Applications/anaconda3/lib/python3.12/site-packages (from scikit-learn) (1.12.0)\n",
      "Requirement already satisfied: joblib>=1.2.0 in /Applications/anaconda3/lib/python3.12/site-packages (from scikit-learn) (1.4.2)\n",
      "Requirement already satisfied: threadpoolctl>=3.1.0 in /Applications/anaconda3/lib/python3.12/site-packages (from scikit-learn) (3.5.0)\n",
      "Requirement already satisfied: python-dateutil>=2.8.2 in /Applications/anaconda3/lib/python3.12/site-packages (from pandas) (2.9.0.post0)\n",
      "Requirement already satisfied: pytz>=2020.1 in /Applications/anaconda3/lib/python3.12/site-packages (from pandas) (2024.1)\n",
      "Requirement already satisfied: tzdata>=2022.7 in /Applications/anaconda3/lib/python3.12/site-packages (from pandas) (2023.3)\n",
      "Requirement already satisfied: click in /Applications/anaconda3/lib/python3.12/site-packages (from nltk) (8.1.7)\n",
      "Requirement already satisfied: regex>=2021.8.3 in /Applications/anaconda3/lib/python3.12/site-packages (from nltk) (2024.9.11)\n",
      "Requirement already satisfied: tqdm in /Applications/anaconda3/lib/python3.12/site-packages (from nltk) (4.66.5)\n",
      "Requirement already satisfied: six>=1.5 in /Applications/anaconda3/lib/python3.12/site-packages (from python-dateutil>=2.8.2->pandas) (1.16.0)\n"
     ]
    }
   ],
   "source": [
    "!pip install scikit-learn numpy pandas nltk\n"
   ]
  },
  {
   "cell_type": "markdown",
   "metadata": {},
   "source": [
    "#### Import the necessary libraries"
   ]
  },
  {
   "cell_type": "code",
   "execution_count": 1643,
   "metadata": {},
   "outputs": [],
   "source": [
    "import numpy as np\n",
    "import pandas as pd\n",
    "import nltk\n",
    "from sklearn.model_selection import train_test_split\n",
    "from sklearn.metrics import accuracy_score, classification_report"
   ]
  },
  {
   "cell_type": "markdown",
   "metadata": {},
   "source": [
    "### Input data (GIVEN)\n",
    "#### Creating the inputs to the ML model in the following form:\n",
    "- sigs --> ['take 3 tabs for 10 days']       INPUT SIG\n",
    "- input_sigs --> [['take', '3', 'tabs', 'for', '10', 'days']]      TOKENS\n",
    "- output_labels --> [['Method','Qty', 'Form', 'FOR', 'Duration', 'DurationUnit']]       LABELS"
   ]
  },
  {
   "cell_type": "code",
   "execution_count": 1645,
   "metadata": {},
   "outputs": [],
   "source": [
    "sigs = [\"for 5 to 6 days\", \"inject 2 units\", \"x 2 weeks\", \"x 3 days\", \"every day\", \"every 2 weeks\", \"every 3 days\", \"every 1 to 2 months\", \"every 2 to 6 weeks\", \"every 4 to 6 days\", \"take two to four tabs\", \"take 2 to 4 tabs\", \"take 3 tabs orally bid for 10 days at bedtime\", \"swallow three capsules tid orally\", \"take 2 capsules po every 6 hours\", \"take 2 tabs po for 10 days\", \"take 100 caps by mouth tid for 10 weeks\", \"take 2 tabs after an hour\", \"2 tabs every 4-6 hours\", \"every 4 to 6 hours\", \"q46h\", \"q4-6h\", \"2 hours before breakfast\", \"before 30 mins at bedtime\", \"30 mins before bed\", \"and 100 tabs twice a month\", \"100 tabs twice a month\", \"100 tabs once a month\", \"100 tabs thrice a month\", \"3 tabs daily for 3 days then 1 tab per day at bed\", \"30 tabs 10 days tid\", \"take 30 tabs for 10 days three times a day\", \"qid q6h\", \"bid\", \"qid\", \"30 tabs before dinner and bedtime\", \"30 tabs before dinner & bedtime\", \"take 3 tabs at bedtime\", \"30 tabs thrice daily for 10 days \", \"30 tabs for 10 days three times a day\", \"Take 2 tablets a day\", \"qid for 10 days\", \"every day\", \"take 2 caps at bedtime\", \"apply 3 drops before bedtime\", \"take three capsules daily\", \"swallow 3 pills once a day\", \"swallow three pills thrice a day\", \"apply daily\", \"apply three drops before bedtime\", \"every 6 hours\", \"before food\", \"after food\", \"for 20 days\", \"for twenty days\", \"with meals\"]\n",
    "input_sigs = [['for', '5', 'to', '6', 'days'], ['inject', '2', 'units'], ['x', '2', 'weeks'], ['x', '3', 'days'], ['every', 'day'], ['every', '2', 'weeks'], ['every', '3', 'days'], ['every', '1', 'to', '2', 'months'], ['every', '2', 'to', '6', 'weeks'], ['every', '4', 'to', '6', 'days'], ['take', 'two', 'to', 'four', 'tabs'], ['take', '2', 'to', '4', 'tabs'], ['take', '3', 'tabs', 'orally', 'bid', 'for', '10', 'days', 'at', 'bedtime'], ['swallow', 'three', 'capsules', 'tid', 'orally'], ['take', '2', 'capsules', 'po', 'every', '6', 'hours'], ['take', '2', 'tabs', 'po', 'for', '10', 'days'], ['take', '100', 'caps', 'by', 'mouth', 'tid', 'for', '10', 'weeks'], ['take', '2', 'tabs', 'after', 'an', 'hour'], ['2', 'tabs', 'every', '4-6', 'hours'], ['every', '4', 'to', '6', 'hours'], ['q46h'], ['q4-6h'], ['2', 'hours', 'before', 'breakfast'], ['before', '30', 'mins', 'at', 'bedtime'], ['30', 'mins', 'before', 'bed'], ['and', '100', 'tabs', 'twice', 'a', 'month'], ['100', 'tabs', 'twice', 'a', 'month'], ['100', 'tabs', 'once', 'a', 'month'], ['100', 'tabs', 'thrice', 'a', 'month'], ['3', 'tabs', 'daily', 'for', '3', 'days', 'then', '1', 'tab', 'per', 'day', 'at', 'bed'], ['30', 'tabs', '10', 'days', 'tid'], ['take', '30', 'tabs', 'for', '10', 'days', 'three', 'times', 'a', 'day'], ['qid', 'q6h'], ['bid'], ['qid'], ['30', 'tabs', 'before', 'dinner', 'and', 'bedtime'], ['30', 'tabs', 'before', 'dinner', '&', 'bedtime'], ['take', '3', 'tabs', 'at', 'bedtime'], ['30', 'tabs', 'thrice', 'daily', 'for', '10', 'days'], ['30', 'tabs', 'for', '10', 'days', 'three', 'times', 'a', 'day'], ['take', '2', 'tablets', 'a', 'day'], ['qid', 'for', '10', 'days'], ['every', 'day'], ['take', '2', 'caps', 'at', 'bedtime'], ['apply', '3', 'drops', 'before', 'bedtime'], ['take', 'three', 'capsules', 'daily'], ['swallow', '3', 'pills', 'once', 'a', 'day'], ['swallow', 'three', 'pills', 'thrice', 'a', 'day'], ['apply', 'daily'], ['apply', 'three', 'drops', 'before', 'bedtime'], ['every', '6', 'hours'], ['before', 'food'], ['after', 'food'], ['for', '20', 'days'], ['for', 'twenty', 'days'], ['with', 'meals']]\n",
    "output_labels = [['FOR', 'Duration', 'TO', 'DurationMax', 'DurationUnit'], ['Method', 'Qty', 'Form'], ['FOR', 'Duration', 'DurationUnit'], ['FOR', 'Duration', 'DurationUnit'], ['EVERY', 'Period'], ['EVERY', 'Period', 'PeriodUnit'], ['EVERY', 'Period', 'PeriodUnit'], ['EVERY', 'Period', 'TO', 'PeriodMax', 'PeriodUnit'], ['EVERY', 'Period', 'TO', 'PeriodMax', 'PeriodUnit'], ['EVERY', 'Period', 'TO', 'PeriodMax', 'PeriodUnit'], ['Method', 'Qty', 'TO', 'Qty', 'Form'], ['Method', 'Qty', 'TO', 'Qty', 'Form'], ['Method', 'Qty', 'Form', 'PO', 'BID', 'FOR', 'Duration', 'DurationUnit', 'AT', 'WHEN'], ['Method', 'Qty', 'Form', 'TID', 'PO'], ['Method', 'Qty', 'Form', 'PO', 'EVERY', 'Period', 'PeriodUnit'], ['Method', 'Qty', 'Form', 'PO', 'FOR', 'Duration', 'DurationUnit'], ['Method', 'Qty', 'Form', 'BY', 'PO', 'TID', 'FOR', 'Duration', 'DurationUnit'], ['Method', 'Qty', 'Form', 'AFTER', 'Period', 'PeriodUnit'], ['Qty', 'Form', 'EVERY', 'Period', 'PeriodUnit'], ['EVERY', 'Period', 'TO', 'PeriodMax', 'PeriodUnit'], ['Q46H'], ['Q4-6H'], ['Qty', 'PeriodUnit', 'BEFORE', 'WHEN'], ['BEFORE', 'Qty', 'M', 'AT', 'WHEN'], ['Qty', 'M', 'BEFORE', 'WHEN'], ['AND', 'Qty', 'Form', 'Frequency', 'Period', 'PeriodUnit'], ['Qty', 'Form', 'Frequency', 'Period', 'PeriodUnit'], ['Qty', 'Form', 'Frequency', 'Period', 'PeriodUnit'], ['Qty', 'Form', 'Frequency', 'Period', 'PeriodUnit'], ['Qty', 'Form', 'Frequency', 'FOR', 'Duration', 'DurationUnit', 'THEN', 'Qty', 'Form', 'Frequency', 'PeriodUnit', 'AT', 'WHEN'], ['Qty', 'Form', 'Duration', 'DurationUnit', 'TID'], ['Method', 'Qty', 'Form', 'FOR', 'Duration', 'DurationUnit', 'Qty', 'TIMES', 'Period', 'PeriodUnit'], ['QID', 'Q6H'], ['BID'], ['QID'],['Qty', 'Form', 'BEFORE', 'WHEN', 'AND', 'WHEN'], ['Qty', 'Form', 'BEFORE', 'WHEN', 'AND', 'WHEN'], ['Method', 'Qty', 'Form', 'AT', 'WHEN'], ['Qty', 'Form', 'Frequency', 'DAILY', 'FOR', 'Duration', 'DurationUnit'], ['Qty', 'Form', 'FOR', 'Duration', 'DurationUnit', 'Frequency', 'TIMES', 'Period', 'PeriodUnit'], ['Method', 'Qty', 'Form', 'Period', 'PeriodUnit'], ['QID', 'FOR', 'Duration', 'DurationUnit'], ['EVERY', 'PeriodUnit'], ['Method', 'Qty', 'Form', 'AT', 'WHEN'], ['Method', 'Qty', 'Form', 'BEFORE', 'WHEN'], ['Method', 'Qty', 'Form', 'DAILY'], ['Method', 'Qty', 'Form', 'Frequency', 'Period', 'PeriodUnit'], ['Method', 'Qty', 'Form', 'Frequency', 'Period', 'PeriodUnit'], ['Method', 'DAILY'], ['Method', 'Qty', 'Form', 'BEFORE', 'WHEN'], ['EVERY', 'Period', 'PeriodUnit'], ['BEFORE', 'FOOD'], ['AFTER', 'FOOD'], ['FOR', 'Duration', 'DurationUnit'], ['FOR', 'Duration', 'DurationUnit'], ['WITH', 'FOOD']]"
   ]
  },
  {
   "cell_type": "code",
   "execution_count": 1646,
   "metadata": {},
   "outputs": [
    {
     "data": {
      "text/plain": [
       "(56, 56, 56)"
      ]
     },
     "execution_count": 1646,
     "metadata": {},
     "output_type": "execute_result"
    }
   ],
   "source": [
    "len(sigs), len(input_sigs) , len(output_labels)"
   ]
  },
  {
   "cell_type": "markdown",
   "metadata": {},
   "source": [
    "### Creating a Tuples Maker method\n",
    "Create the tuples as given below by writing a function **tuples_maker(input_sigs, output_labels)** and returns **output** as given below\n",
    "\n",
    "Input(s): \n",
    "- input_sigs\n",
    "- output_lables\n",
    "\n",
    "Output:\n",
    "\n",
    "[[('for', 'FOR'),\n",
    "  ('5', 'Duration'),\n",
    "  ('to', 'TO'),\n",
    "  ('6', 'DurationMax'),\n",
    "  ('days', 'DurationUnit')], [second sentence], ...]"
   ]
  },
  {
   "cell_type": "code",
   "execution_count": 1648,
   "metadata": {},
   "outputs": [],
   "source": [
    "def tuples_maker(input_sigs, output_labels):\n",
    "    \n",
    "    sample_data = []\n",
    "    for tokens, labels in zip(input_sigs, output_labels):\n",
    "        sentence_tuples = [(token, label) for token, label in zip(tokens, labels)]\n",
    "        sample_data.append(sentence_tuples)\n",
    "\n",
    "    return sample_data"
   ]
  },
  {
   "cell_type": "code",
   "execution_count": 1649,
   "metadata": {},
   "outputs": [
    {
     "data": {
      "text/plain": [
       "[[('for', 'FOR'),\n",
       "  ('5', 'Duration'),\n",
       "  ('to', 'TO'),\n",
       "  ('6', 'DurationMax'),\n",
       "  ('days', 'DurationUnit')],\n",
       " [('inject', 'Method'), ('2', 'Qty'), ('units', 'Form')],\n",
       " [('x', 'FOR'), ('2', 'Duration'), ('weeks', 'DurationUnit')],\n",
       " [('x', 'FOR'), ('3', 'Duration'), ('days', 'DurationUnit')],\n",
       " [('every', 'EVERY'), ('day', 'Period')],\n",
       " [('every', 'EVERY'), ('2', 'Period'), ('weeks', 'PeriodUnit')],\n",
       " [('every', 'EVERY'), ('3', 'Period'), ('days', 'PeriodUnit')],\n",
       " [('every', 'EVERY'),\n",
       "  ('1', 'Period'),\n",
       "  ('to', 'TO'),\n",
       "  ('2', 'PeriodMax'),\n",
       "  ('months', 'PeriodUnit')],\n",
       " [('every', 'EVERY'),\n",
       "  ('2', 'Period'),\n",
       "  ('to', 'TO'),\n",
       "  ('6', 'PeriodMax'),\n",
       "  ('weeks', 'PeriodUnit')],\n",
       " [('every', 'EVERY'),\n",
       "  ('4', 'Period'),\n",
       "  ('to', 'TO'),\n",
       "  ('6', 'PeriodMax'),\n",
       "  ('days', 'PeriodUnit')],\n",
       " [('take', 'Method'),\n",
       "  ('two', 'Qty'),\n",
       "  ('to', 'TO'),\n",
       "  ('four', 'Qty'),\n",
       "  ('tabs', 'Form')],\n",
       " [('take', 'Method'),\n",
       "  ('2', 'Qty'),\n",
       "  ('to', 'TO'),\n",
       "  ('4', 'Qty'),\n",
       "  ('tabs', 'Form')],\n",
       " [('take', 'Method'),\n",
       "  ('3', 'Qty'),\n",
       "  ('tabs', 'Form'),\n",
       "  ('orally', 'PO'),\n",
       "  ('bid', 'BID'),\n",
       "  ('for', 'FOR'),\n",
       "  ('10', 'Duration'),\n",
       "  ('days', 'DurationUnit'),\n",
       "  ('at', 'AT'),\n",
       "  ('bedtime', 'WHEN')],\n",
       " [('swallow', 'Method'),\n",
       "  ('three', 'Qty'),\n",
       "  ('capsules', 'Form'),\n",
       "  ('tid', 'TID'),\n",
       "  ('orally', 'PO')],\n",
       " [('take', 'Method'),\n",
       "  ('2', 'Qty'),\n",
       "  ('capsules', 'Form'),\n",
       "  ('po', 'PO'),\n",
       "  ('every', 'EVERY'),\n",
       "  ('6', 'Period'),\n",
       "  ('hours', 'PeriodUnit')],\n",
       " [('take', 'Method'),\n",
       "  ('2', 'Qty'),\n",
       "  ('tabs', 'Form'),\n",
       "  ('po', 'PO'),\n",
       "  ('for', 'FOR'),\n",
       "  ('10', 'Duration'),\n",
       "  ('days', 'DurationUnit')],\n",
       " [('take', 'Method'),\n",
       "  ('100', 'Qty'),\n",
       "  ('caps', 'Form'),\n",
       "  ('by', 'BY'),\n",
       "  ('mouth', 'PO'),\n",
       "  ('tid', 'TID'),\n",
       "  ('for', 'FOR'),\n",
       "  ('10', 'Duration'),\n",
       "  ('weeks', 'DurationUnit')],\n",
       " [('take', 'Method'),\n",
       "  ('2', 'Qty'),\n",
       "  ('tabs', 'Form'),\n",
       "  ('after', 'AFTER'),\n",
       "  ('an', 'Period'),\n",
       "  ('hour', 'PeriodUnit')],\n",
       " [('2', 'Qty'),\n",
       "  ('tabs', 'Form'),\n",
       "  ('every', 'EVERY'),\n",
       "  ('4-6', 'Period'),\n",
       "  ('hours', 'PeriodUnit')],\n",
       " [('every', 'EVERY'),\n",
       "  ('4', 'Period'),\n",
       "  ('to', 'TO'),\n",
       "  ('6', 'PeriodMax'),\n",
       "  ('hours', 'PeriodUnit')],\n",
       " [('q46h', 'Q46H')],\n",
       " [('q4-6h', 'Q4-6H')],\n",
       " [('2', 'Qty'),\n",
       "  ('hours', 'PeriodUnit'),\n",
       "  ('before', 'BEFORE'),\n",
       "  ('breakfast', 'WHEN')],\n",
       " [('before', 'BEFORE'),\n",
       "  ('30', 'Qty'),\n",
       "  ('mins', 'M'),\n",
       "  ('at', 'AT'),\n",
       "  ('bedtime', 'WHEN')],\n",
       " [('30', 'Qty'), ('mins', 'M'), ('before', 'BEFORE'), ('bed', 'WHEN')],\n",
       " [('and', 'AND'),\n",
       "  ('100', 'Qty'),\n",
       "  ('tabs', 'Form'),\n",
       "  ('twice', 'Frequency'),\n",
       "  ('a', 'Period'),\n",
       "  ('month', 'PeriodUnit')],\n",
       " [('100', 'Qty'),\n",
       "  ('tabs', 'Form'),\n",
       "  ('twice', 'Frequency'),\n",
       "  ('a', 'Period'),\n",
       "  ('month', 'PeriodUnit')],\n",
       " [('100', 'Qty'),\n",
       "  ('tabs', 'Form'),\n",
       "  ('once', 'Frequency'),\n",
       "  ('a', 'Period'),\n",
       "  ('month', 'PeriodUnit')],\n",
       " [('100', 'Qty'),\n",
       "  ('tabs', 'Form'),\n",
       "  ('thrice', 'Frequency'),\n",
       "  ('a', 'Period'),\n",
       "  ('month', 'PeriodUnit')],\n",
       " [('3', 'Qty'),\n",
       "  ('tabs', 'Form'),\n",
       "  ('daily', 'Frequency'),\n",
       "  ('for', 'FOR'),\n",
       "  ('3', 'Duration'),\n",
       "  ('days', 'DurationUnit'),\n",
       "  ('then', 'THEN'),\n",
       "  ('1', 'Qty'),\n",
       "  ('tab', 'Form'),\n",
       "  ('per', 'Frequency'),\n",
       "  ('day', 'PeriodUnit'),\n",
       "  ('at', 'AT'),\n",
       "  ('bed', 'WHEN')],\n",
       " [('30', 'Qty'),\n",
       "  ('tabs', 'Form'),\n",
       "  ('10', 'Duration'),\n",
       "  ('days', 'DurationUnit'),\n",
       "  ('tid', 'TID')],\n",
       " [('take', 'Method'),\n",
       "  ('30', 'Qty'),\n",
       "  ('tabs', 'Form'),\n",
       "  ('for', 'FOR'),\n",
       "  ('10', 'Duration'),\n",
       "  ('days', 'DurationUnit'),\n",
       "  ('three', 'Qty'),\n",
       "  ('times', 'TIMES'),\n",
       "  ('a', 'Period'),\n",
       "  ('day', 'PeriodUnit')],\n",
       " [('qid', 'QID'), ('q6h', 'Q6H')],\n",
       " [('bid', 'BID')],\n",
       " [('qid', 'QID')],\n",
       " [('30', 'Qty'),\n",
       "  ('tabs', 'Form'),\n",
       "  ('before', 'BEFORE'),\n",
       "  ('dinner', 'WHEN'),\n",
       "  ('and', 'AND'),\n",
       "  ('bedtime', 'WHEN')],\n",
       " [('30', 'Qty'),\n",
       "  ('tabs', 'Form'),\n",
       "  ('before', 'BEFORE'),\n",
       "  ('dinner', 'WHEN'),\n",
       "  ('&', 'AND'),\n",
       "  ('bedtime', 'WHEN')],\n",
       " [('take', 'Method'),\n",
       "  ('3', 'Qty'),\n",
       "  ('tabs', 'Form'),\n",
       "  ('at', 'AT'),\n",
       "  ('bedtime', 'WHEN')],\n",
       " [('30', 'Qty'),\n",
       "  ('tabs', 'Form'),\n",
       "  ('thrice', 'Frequency'),\n",
       "  ('daily', 'DAILY'),\n",
       "  ('for', 'FOR'),\n",
       "  ('10', 'Duration'),\n",
       "  ('days', 'DurationUnit')],\n",
       " [('30', 'Qty'),\n",
       "  ('tabs', 'Form'),\n",
       "  ('for', 'FOR'),\n",
       "  ('10', 'Duration'),\n",
       "  ('days', 'DurationUnit'),\n",
       "  ('three', 'Frequency'),\n",
       "  ('times', 'TIMES'),\n",
       "  ('a', 'Period'),\n",
       "  ('day', 'PeriodUnit')],\n",
       " [('take', 'Method'),\n",
       "  ('2', 'Qty'),\n",
       "  ('tablets', 'Form'),\n",
       "  ('a', 'Period'),\n",
       "  ('day', 'PeriodUnit')],\n",
       " [('qid', 'QID'),\n",
       "  ('for', 'FOR'),\n",
       "  ('10', 'Duration'),\n",
       "  ('days', 'DurationUnit')],\n",
       " [('every', 'EVERY'), ('day', 'PeriodUnit')],\n",
       " [('take', 'Method'),\n",
       "  ('2', 'Qty'),\n",
       "  ('caps', 'Form'),\n",
       "  ('at', 'AT'),\n",
       "  ('bedtime', 'WHEN')],\n",
       " [('apply', 'Method'),\n",
       "  ('3', 'Qty'),\n",
       "  ('drops', 'Form'),\n",
       "  ('before', 'BEFORE'),\n",
       "  ('bedtime', 'WHEN')],\n",
       " [('take', 'Method'),\n",
       "  ('three', 'Qty'),\n",
       "  ('capsules', 'Form'),\n",
       "  ('daily', 'DAILY')],\n",
       " [('swallow', 'Method'),\n",
       "  ('3', 'Qty'),\n",
       "  ('pills', 'Form'),\n",
       "  ('once', 'Frequency'),\n",
       "  ('a', 'Period'),\n",
       "  ('day', 'PeriodUnit')],\n",
       " [('swallow', 'Method'),\n",
       "  ('three', 'Qty'),\n",
       "  ('pills', 'Form'),\n",
       "  ('thrice', 'Frequency'),\n",
       "  ('a', 'Period'),\n",
       "  ('day', 'PeriodUnit')],\n",
       " [('apply', 'Method'), ('daily', 'DAILY')],\n",
       " [('apply', 'Method'),\n",
       "  ('three', 'Qty'),\n",
       "  ('drops', 'Form'),\n",
       "  ('before', 'BEFORE'),\n",
       "  ('bedtime', 'WHEN')],\n",
       " [('every', 'EVERY'), ('6', 'Period'), ('hours', 'PeriodUnit')],\n",
       " [('before', 'BEFORE'), ('food', 'FOOD')],\n",
       " [('after', 'AFTER'), ('food', 'FOOD')],\n",
       " [('for', 'FOR'), ('20', 'Duration'), ('days', 'DurationUnit')],\n",
       " [('for', 'FOR'), ('twenty', 'Duration'), ('days', 'DurationUnit')],\n",
       " [('with', 'WITH'), ('meals', 'FOOD')]]"
      ]
     },
     "execution_count": 1649,
     "metadata": {},
     "output_type": "execute_result"
    }
   ],
   "source": [
    "result = tuples_maker(input_sigs, output_labels)\n",
    "result\n"
   ]
  },
  {
   "cell_type": "markdown",
   "metadata": {},
   "source": [
    "### Creating the triples_maker( ) for feature extraction\n",
    "- input: tuples_maker_output\n",
    "- output: \n",
    "[[('for', 'IN', 'FOR'),\n",
    "  ('5', 'CD', 'Duration'),\n",
    "  ('to', 'TO', 'TO'),\n",
    "  ('6', 'CD', 'DurationMax'),\n",
    "  ('days', 'NNS', 'DurationUnit')], [second sentence], ... ]"
   ]
  },
  {
   "cell_type": "code",
   "execution_count": 1651,
   "metadata": {},
   "outputs": [],
   "source": [
    "\n",
    "def triples_maker(whole_data):\n",
    "    sample_data = []\n",
    "    \n",
    "    for sentence in whole_data:\n",
    "        # Extract tokens and labels separately\n",
    "        tokens, labels = zip(*sentence)\n",
    "        \n",
    "        # Get POS tags for the tokens\n",
    "        pos_tags = nltk.pos_tag(tokens)\n",
    "        \n",
    "        # Form triples of (token, POS, label) and append to sample_data\n",
    "        sentence_data = [(token, pos, label) for (token, pos), label in zip(pos_tags, labels)]\n",
    "        sample_data.append(sentence_data)    \n",
    "    return sample_data \n",
    "\n"
   ]
  },
  {
   "cell_type": "code",
   "execution_count": 1652,
   "metadata": {},
   "outputs": [
    {
     "data": {
      "text/plain": [
       "[[('for', 'IN', 'FOR'),\n",
       "  ('5', 'CD', 'Duration'),\n",
       "  ('to', 'TO', 'TO'),\n",
       "  ('6', 'CD', 'DurationMax'),\n",
       "  ('days', 'NNS', 'DurationUnit')],\n",
       " [('inject', 'JJ', 'Method'), ('2', 'CD', 'Qty'), ('units', 'NNS', 'Form')],\n",
       " [('x', 'RB', 'FOR'),\n",
       "  ('2', 'CD', 'Duration'),\n",
       "  ('weeks', 'NNS', 'DurationUnit')],\n",
       " [('x', 'RB', 'FOR'),\n",
       "  ('3', 'CD', 'Duration'),\n",
       "  ('days', 'NNS', 'DurationUnit')],\n",
       " [('every', 'DT', 'EVERY'), ('day', 'NN', 'Period')],\n",
       " [('every', 'DT', 'EVERY'),\n",
       "  ('2', 'CD', 'Period'),\n",
       "  ('weeks', 'NNS', 'PeriodUnit')],\n",
       " [('every', 'DT', 'EVERY'),\n",
       "  ('3', 'CD', 'Period'),\n",
       "  ('days', 'NNS', 'PeriodUnit')],\n",
       " [('every', 'DT', 'EVERY'),\n",
       "  ('1', 'CD', 'Period'),\n",
       "  ('to', 'TO', 'TO'),\n",
       "  ('2', 'CD', 'PeriodMax'),\n",
       "  ('months', 'NNS', 'PeriodUnit')],\n",
       " [('every', 'DT', 'EVERY'),\n",
       "  ('2', 'CD', 'Period'),\n",
       "  ('to', 'TO', 'TO'),\n",
       "  ('6', 'CD', 'PeriodMax'),\n",
       "  ('weeks', 'NNS', 'PeriodUnit')],\n",
       " [('every', 'DT', 'EVERY'),\n",
       "  ('4', 'CD', 'Period'),\n",
       "  ('to', 'TO', 'TO'),\n",
       "  ('6', 'CD', 'PeriodMax'),\n",
       "  ('days', 'NNS', 'PeriodUnit')],\n",
       " [('take', 'VB', 'Method'),\n",
       "  ('two', 'CD', 'Qty'),\n",
       "  ('to', 'TO', 'TO'),\n",
       "  ('four', 'CD', 'Qty'),\n",
       "  ('tabs', 'NNS', 'Form')],\n",
       " [('take', 'VB', 'Method'),\n",
       "  ('2', 'CD', 'Qty'),\n",
       "  ('to', 'TO', 'TO'),\n",
       "  ('4', 'CD', 'Qty'),\n",
       "  ('tabs', 'NNS', 'Form')],\n",
       " [('take', 'VB', 'Method'),\n",
       "  ('3', 'CD', 'Qty'),\n",
       "  ('tabs', 'NNS', 'Form'),\n",
       "  ('orally', 'RB', 'PO'),\n",
       "  ('bid', 'VBP', 'BID'),\n",
       "  ('for', 'IN', 'FOR'),\n",
       "  ('10', 'CD', 'Duration'),\n",
       "  ('days', 'NNS', 'DurationUnit'),\n",
       "  ('at', 'IN', 'AT'),\n",
       "  ('bedtime', 'NN', 'WHEN')],\n",
       " [('swallow', 'JJ', 'Method'),\n",
       "  ('three', 'CD', 'Qty'),\n",
       "  ('capsules', 'NNS', 'Form'),\n",
       "  ('tid', 'VBP', 'TID'),\n",
       "  ('orally', 'RB', 'PO')],\n",
       " [('take', 'VB', 'Method'),\n",
       "  ('2', 'CD', 'Qty'),\n",
       "  ('capsules', 'NNS', 'Form'),\n",
       "  ('po', 'RB', 'PO'),\n",
       "  ('every', 'DT', 'EVERY'),\n",
       "  ('6', 'CD', 'Period'),\n",
       "  ('hours', 'NNS', 'PeriodUnit')],\n",
       " [('take', 'VB', 'Method'),\n",
       "  ('2', 'CD', 'Qty'),\n",
       "  ('tabs', 'NNS', 'Form'),\n",
       "  ('po', 'NN', 'PO'),\n",
       "  ('for', 'IN', 'FOR'),\n",
       "  ('10', 'CD', 'Duration'),\n",
       "  ('days', 'NNS', 'DurationUnit')],\n",
       " [('take', 'VB', 'Method'),\n",
       "  ('100', 'CD', 'Qty'),\n",
       "  ('caps', 'NNS', 'Form'),\n",
       "  ('by', 'IN', 'BY'),\n",
       "  ('mouth', 'NN', 'PO'),\n",
       "  ('tid', 'NN', 'TID'),\n",
       "  ('for', 'IN', 'FOR'),\n",
       "  ('10', 'CD', 'Duration'),\n",
       "  ('weeks', 'NNS', 'DurationUnit')],\n",
       " [('take', 'VB', 'Method'),\n",
       "  ('2', 'CD', 'Qty'),\n",
       "  ('tabs', 'NNS', 'Form'),\n",
       "  ('after', 'IN', 'AFTER'),\n",
       "  ('an', 'DT', 'Period'),\n",
       "  ('hour', 'NN', 'PeriodUnit')],\n",
       " [('2', 'CD', 'Qty'),\n",
       "  ('tabs', 'JJ', 'Form'),\n",
       "  ('every', 'DT', 'EVERY'),\n",
       "  ('4-6', 'JJ', 'Period'),\n",
       "  ('hours', 'NNS', 'PeriodUnit')],\n",
       " [('every', 'DT', 'EVERY'),\n",
       "  ('4', 'CD', 'Period'),\n",
       "  ('to', 'TO', 'TO'),\n",
       "  ('6', 'CD', 'PeriodMax'),\n",
       "  ('hours', 'NNS', 'PeriodUnit')],\n",
       " [('q46h', 'NN', 'Q46H')],\n",
       " [('q4-6h', 'NN', 'Q4-6H')],\n",
       " [('2', 'CD', 'Qty'),\n",
       "  ('hours', 'NNS', 'PeriodUnit'),\n",
       "  ('before', 'IN', 'BEFORE'),\n",
       "  ('breakfast', 'NN', 'WHEN')],\n",
       " [('before', 'IN', 'BEFORE'),\n",
       "  ('30', 'CD', 'Qty'),\n",
       "  ('mins', 'NNS', 'M'),\n",
       "  ('at', 'IN', 'AT'),\n",
       "  ('bedtime', 'NN', 'WHEN')],\n",
       " [('30', 'CD', 'Qty'),\n",
       "  ('mins', 'NNS', 'M'),\n",
       "  ('before', 'IN', 'BEFORE'),\n",
       "  ('bed', 'NN', 'WHEN')],\n",
       " [('and', 'CC', 'AND'),\n",
       "  ('100', 'CD', 'Qty'),\n",
       "  ('tabs', 'NNS', 'Form'),\n",
       "  ('twice', 'RB', 'Frequency'),\n",
       "  ('a', 'DT', 'Period'),\n",
       "  ('month', 'NN', 'PeriodUnit')],\n",
       " [('100', 'CD', 'Qty'),\n",
       "  ('tabs', 'JJ', 'Form'),\n",
       "  ('twice', 'RB', 'Frequency'),\n",
       "  ('a', 'DT', 'Period'),\n",
       "  ('month', 'NN', 'PeriodUnit')],\n",
       " [('100', 'CD', 'Qty'),\n",
       "  ('tabs', 'NNS', 'Form'),\n",
       "  ('once', 'RB', 'Frequency'),\n",
       "  ('a', 'DT', 'Period'),\n",
       "  ('month', 'NN', 'PeriodUnit')],\n",
       " [('100', 'CD', 'Qty'),\n",
       "  ('tabs', 'JJ', 'Form'),\n",
       "  ('thrice', 'NN', 'Frequency'),\n",
       "  ('a', 'DT', 'Period'),\n",
       "  ('month', 'NN', 'PeriodUnit')],\n",
       " [('3', 'CD', 'Qty'),\n",
       "  ('tabs', 'JJ', 'Form'),\n",
       "  ('daily', 'RB', 'Frequency'),\n",
       "  ('for', 'IN', 'FOR'),\n",
       "  ('3', 'CD', 'Duration'),\n",
       "  ('days', 'NNS', 'DurationUnit'),\n",
       "  ('then', 'RB', 'THEN'),\n",
       "  ('1', 'CD', 'Qty'),\n",
       "  ('tab', 'NNS', 'Form'),\n",
       "  ('per', 'IN', 'Frequency'),\n",
       "  ('day', 'NN', 'PeriodUnit'),\n",
       "  ('at', 'IN', 'AT'),\n",
       "  ('bed', 'NN', 'WHEN')],\n",
       " [('30', 'CD', 'Qty'),\n",
       "  ('tabs', 'NNS', 'Form'),\n",
       "  ('10', 'CD', 'Duration'),\n",
       "  ('days', 'NNS', 'DurationUnit'),\n",
       "  ('tid', 'NN', 'TID')],\n",
       " [('take', 'VB', 'Method'),\n",
       "  ('30', 'CD', 'Qty'),\n",
       "  ('tabs', 'NNS', 'Form'),\n",
       "  ('for', 'IN', 'FOR'),\n",
       "  ('10', 'CD', 'Duration'),\n",
       "  ('days', 'NNS', 'DurationUnit'),\n",
       "  ('three', 'CD', 'Qty'),\n",
       "  ('times', 'NNS', 'TIMES'),\n",
       "  ('a', 'DT', 'Period'),\n",
       "  ('day', 'NN', 'PeriodUnit')],\n",
       " [('qid', 'NN', 'QID'), ('q6h', 'NN', 'Q6H')],\n",
       " [('bid', 'NN', 'BID')],\n",
       " [('qid', 'NN', 'QID')],\n",
       " [('30', 'CD', 'Qty'),\n",
       "  ('tabs', 'NNS', 'Form'),\n",
       "  ('before', 'IN', 'BEFORE'),\n",
       "  ('dinner', 'NN', 'WHEN'),\n",
       "  ('and', 'CC', 'AND'),\n",
       "  ('bedtime', 'NN', 'WHEN')],\n",
       " [('30', 'CD', 'Qty'),\n",
       "  ('tabs', 'NNS', 'Form'),\n",
       "  ('before', 'IN', 'BEFORE'),\n",
       "  ('dinner', 'NN', 'WHEN'),\n",
       "  ('&', 'CC', 'AND'),\n",
       "  ('bedtime', 'NN', 'WHEN')],\n",
       " [('take', 'VB', 'Method'),\n",
       "  ('3', 'CD', 'Qty'),\n",
       "  ('tabs', 'NNS', 'Form'),\n",
       "  ('at', 'IN', 'AT'),\n",
       "  ('bedtime', 'NN', 'WHEN')],\n",
       " [('30', 'CD', 'Qty'),\n",
       "  ('tabs', 'JJ', 'Form'),\n",
       "  ('thrice', 'JJ', 'Frequency'),\n",
       "  ('daily', 'RB', 'DAILY'),\n",
       "  ('for', 'IN', 'FOR'),\n",
       "  ('10', 'CD', 'Duration'),\n",
       "  ('days', 'NNS', 'DurationUnit')],\n",
       " [('30', 'CD', 'Qty'),\n",
       "  ('tabs', 'NNS', 'Form'),\n",
       "  ('for', 'IN', 'FOR'),\n",
       "  ('10', 'CD', 'Duration'),\n",
       "  ('days', 'NNS', 'DurationUnit'),\n",
       "  ('three', 'CD', 'Frequency'),\n",
       "  ('times', 'NNS', 'TIMES'),\n",
       "  ('a', 'DT', 'Period'),\n",
       "  ('day', 'NN', 'PeriodUnit')],\n",
       " [('take', 'VB', 'Method'),\n",
       "  ('2', 'CD', 'Qty'),\n",
       "  ('tablets', 'NNS', 'Form'),\n",
       "  ('a', 'DT', 'Period'),\n",
       "  ('day', 'NN', 'PeriodUnit')],\n",
       " [('qid', 'NN', 'QID'),\n",
       "  ('for', 'IN', 'FOR'),\n",
       "  ('10', 'CD', 'Duration'),\n",
       "  ('days', 'NNS', 'DurationUnit')],\n",
       " [('every', 'DT', 'EVERY'), ('day', 'NN', 'PeriodUnit')],\n",
       " [('take', 'VB', 'Method'),\n",
       "  ('2', 'CD', 'Qty'),\n",
       "  ('caps', 'NNS', 'Form'),\n",
       "  ('at', 'IN', 'AT'),\n",
       "  ('bedtime', 'NN', 'WHEN')],\n",
       " [('apply', 'RB', 'Method'),\n",
       "  ('3', 'CD', 'Qty'),\n",
       "  ('drops', 'NNS', 'Form'),\n",
       "  ('before', 'IN', 'BEFORE'),\n",
       "  ('bedtime', 'NN', 'WHEN')],\n",
       " [('take', 'VB', 'Method'),\n",
       "  ('three', 'CD', 'Qty'),\n",
       "  ('capsules', 'NNS', 'Form'),\n",
       "  ('daily', 'RB', 'DAILY')],\n",
       " [('swallow', 'JJ', 'Method'),\n",
       "  ('3', 'CD', 'Qty'),\n",
       "  ('pills', 'NNS', 'Form'),\n",
       "  ('once', 'RB', 'Frequency'),\n",
       "  ('a', 'DT', 'Period'),\n",
       "  ('day', 'NN', 'PeriodUnit')],\n",
       " [('swallow', 'JJ', 'Method'),\n",
       "  ('three', 'CD', 'Qty'),\n",
       "  ('pills', 'NNS', 'Form'),\n",
       "  ('thrice', 'VBP', 'Frequency'),\n",
       "  ('a', 'DT', 'Period'),\n",
       "  ('day', 'NN', 'PeriodUnit')],\n",
       " [('apply', 'VB', 'Method'), ('daily', 'JJ', 'DAILY')],\n",
       " [('apply', 'RB', 'Method'),\n",
       "  ('three', 'CD', 'Qty'),\n",
       "  ('drops', 'NNS', 'Form'),\n",
       "  ('before', 'IN', 'BEFORE'),\n",
       "  ('bedtime', 'NN', 'WHEN')],\n",
       " [('every', 'DT', 'EVERY'),\n",
       "  ('6', 'CD', 'Period'),\n",
       "  ('hours', 'NNS', 'PeriodUnit')],\n",
       " [('before', 'IN', 'BEFORE'), ('food', 'NN', 'FOOD')],\n",
       " [('after', 'IN', 'AFTER'), ('food', 'NN', 'FOOD')],\n",
       " [('for', 'IN', 'FOR'),\n",
       "  ('20', 'CD', 'Duration'),\n",
       "  ('days', 'NNS', 'DurationUnit')],\n",
       " [('for', 'IN', 'FOR'),\n",
       "  ('twenty', 'JJ', 'Duration'),\n",
       "  ('days', 'NNS', 'DurationUnit')],\n",
       " [('with', 'IN', 'WITH'), ('meals', 'NNS', 'FOOD')]]"
      ]
     },
     "execution_count": 1652,
     "metadata": {},
     "output_type": "execute_result"
    }
   ],
   "source": [
    "whole_data = tuples_maker(input_sigs, output_labels)\n",
    "\n",
    "sample_data = triples_maker(whole_data)\n",
    "sample_data\n"
   ]
  },
  {
   "cell_type": "markdown",
   "metadata": {},
   "source": [
    "### Creating the features extractor method (GIVEN as a BASELINE)\n",
    "#### The features used are:\n",
    "- SOS, EOS, lowercase, uppercase, title, digit, postag, previous_tag, next_tag\n",
    "#### Feel free to include more features"
   ]
  },
  {
   "cell_type": "code",
   "execution_count": 1654,
   "metadata": {},
   "outputs": [],
   "source": [
    "def token_to_features(doc, i):\n",
    "    word = doc[i][0]\n",
    "    postag = doc[i][1]\n",
    "\n",
    "    # Common features for all words\n",
    "    features = [\n",
    "        'bias',\n",
    "        'word.lower=' + word.lower(),\n",
    "        'word[-3:]=' + word[-3:],\n",
    "        'word[-2:]=' + word[-2:],\n",
    "        'word.isupper=%s' % word.isupper(),\n",
    "        'word.istitle=%s' % word.istitle(),\n",
    "        'word.isdigit=%s' % word.isdigit(),\n",
    "        'postag=' + postag\n",
    "    ]\n",
    "\n",
    "    # Features for words that are not\n",
    "    # at the beginning of a document\n",
    "    if i > 0:\n",
    "        word1 = doc[i-1][0]\n",
    "        postag1 = doc[i-1][1]\n",
    "        features.extend([\n",
    "            '-1:word.lower=' + word1.lower(),\n",
    "            '-1:word.istitle=%s' % word1.istitle(),\n",
    "            '-1:word.isupper=%s' % word1.isupper(),\n",
    "            '-1:word.isdigit=%s' % word1.isdigit(),\n",
    "            '-1:postag=' + postag1\n",
    "        ])\n",
    "    else:\n",
    "        # Indicate that it is the 'beginning of a document'\n",
    "        features.append('BOS')\n",
    "\n",
    "    # Features for words that are not\n",
    "    # at the end of a document\n",
    "    if i < len(doc)-1:\n",
    "        word1 = doc[i+1][0]\n",
    "        postag1 = doc[i+1][1]\n",
    "        features.extend([\n",
    "            '+1:word.lower=' + word1.lower(),\n",
    "            '+1:word.istitle=%s' % word1.istitle(),\n",
    "            '+1:word.isupper=%s' % word1.isupper(),\n",
    "            '+1:word.isdigit=%s' % word1.isdigit(),\n",
    "            '+1:postag=' + postag1\n",
    "        ])\n",
    "    else:\n",
    "        # Indicate that it is the 'end of a document'\n",
    "        features.append('EOS')\n",
    "\n",
    "    return features"
   ]
  },
  {
   "cell_type": "markdown",
   "metadata": {},
   "source": [
    "### Running the feature extractor on the training data \n",
    "- Feature extraction\n",
    "- Train-test-split"
   ]
  },
  {
   "cell_type": "code",
   "execution_count": 1656,
   "metadata": {},
   "outputs": [],
   "source": [
    "\n",
    "# Function to extract features from all tokens in a document\n",
    "def get_features(doc):\n",
    "    return [token_to_features(doc, i) for i in range(len(doc))]\n",
    "\n",
    "# Function to extract labels assuming the last element in each doc is the label\n",
    "def get_labels(doc):\n",
    "    return [label for _, _, label in doc]  # Unpacking all 3 values\n",
    "\n",
    "# Prepare dataset\n",
    "X = [get_features(doc) for doc in sample_data]\n",
    "y = [get_labels(doc) for doc in sample_data]\n",
    "\n",
    "# Train-test split\n",
    "X_train, X_test, y_train, y_test = train_test_split(X, y, test_size=0.2, random_state=42)"
   ]
  },
  {
   "cell_type": "markdown",
   "metadata": {},
   "source": [
    "### Training the CRF model with the features extracted using the feature extractor method"
   ]
  },
  {
   "cell_type": "code",
   "execution_count": 1658,
   "metadata": {},
   "outputs": [],
   "source": [
    "import pycrfsuite\n"
   ]
  },
  {
   "cell_type": "code",
   "execution_count": 1659,
   "metadata": {},
   "outputs": [
    {
     "name": "stdout",
     "output_type": "stream",
     "text": [
      "Feature generation\n",
      "type: CRF1d\n",
      "feature.minfreq: 0.000000\n",
      "feature.possible_states: 0\n",
      "feature.possible_transitions: 1\n",
      "0....1....2....3....4....5....6....7....8....9....10\n",
      "Number of features: 1763\n",
      "Seconds required: 0.001\n",
      "\n",
      "L-BFGS optimization\n",
      "c1: 0.100000\n",
      "c2: 0.100000\n",
      "num_memories: 6\n",
      "max_iterations: 156\n",
      "epsilon: 0.000001\n",
      "stop: 10\n",
      "delta: 0.000001\n",
      "linesearch: MoreThuente\n",
      "linesearch.max_iterations: 20\n",
      "\n",
      "***** Iteration #1 *****\n",
      "Loss: 568.143184\n",
      "Feature norm: 1.000000\n",
      "Error norm: 116.003715\n",
      "Active features: 1749\n",
      "Line search trials: 1\n",
      "Line search step: 0.006435\n",
      "Seconds required for this iteration: 0.000\n",
      "\n",
      "***** Iteration #2 *****\n",
      "Loss: 387.359975\n",
      "Feature norm: 5.053745\n",
      "Error norm: 145.752464\n",
      "Active features: 1489\n",
      "Line search trials: 1\n",
      "Line search step: 1.000000\n",
      "Seconds required for this iteration: 0.000\n",
      "\n",
      "***** Iteration #3 *****\n",
      "Loss: 282.295063\n",
      "Feature norm: 5.958821\n",
      "Error norm: 65.263181\n",
      "Active features: 1497\n",
      "Line search trials: 1\n",
      "Line search step: 1.000000\n",
      "Seconds required for this iteration: 0.000\n",
      "\n",
      "***** Iteration #4 *****\n",
      "Loss: 238.758248\n",
      "Feature norm: 6.643741\n",
      "Error norm: 50.396073\n",
      "Active features: 1293\n",
      "Line search trials: 1\n",
      "Line search step: 1.000000\n",
      "Seconds required for this iteration: 0.000\n",
      "\n",
      "***** Iteration #5 *****\n",
      "Loss: 173.388137\n",
      "Feature norm: 8.489210\n",
      "Error norm: 37.937840\n",
      "Active features: 1138\n",
      "Line search trials: 1\n",
      "Line search step: 1.000000\n",
      "Seconds required for this iteration: 0.000\n",
      "\n",
      "***** Iteration #6 *****\n",
      "Loss: 118.885919\n",
      "Feature norm: 11.066631\n",
      "Error norm: 23.727113\n",
      "Active features: 1054\n",
      "Line search trials: 1\n",
      "Line search step: 1.000000\n",
      "Seconds required for this iteration: 0.000\n",
      "\n",
      "***** Iteration #7 *****\n",
      "Loss: 90.362224\n",
      "Feature norm: 13.358890\n",
      "Error norm: 17.164997\n",
      "Active features: 1062\n",
      "Line search trials: 1\n",
      "Line search step: 1.000000\n",
      "Seconds required for this iteration: 0.000\n",
      "\n",
      "***** Iteration #8 *****\n",
      "Loss: 81.338642\n",
      "Feature norm: 14.281957\n",
      "Error norm: 10.642023\n",
      "Active features: 1020\n",
      "Line search trials: 1\n",
      "Line search step: 1.000000\n",
      "Seconds required for this iteration: 0.000\n",
      "\n",
      "***** Iteration #9 *****\n",
      "Loss: 77.735587\n",
      "Feature norm: 14.619277\n",
      "Error norm: 5.197762\n",
      "Active features: 1044\n",
      "Line search trials: 1\n",
      "Line search step: 1.000000\n",
      "Seconds required for this iteration: 0.000\n",
      "\n",
      "***** Iteration #10 *****\n",
      "Loss: 75.106260\n",
      "Feature norm: 14.955238\n",
      "Error norm: 3.938594\n",
      "Active features: 998\n",
      "Line search trials: 1\n",
      "Line search step: 1.000000\n",
      "Seconds required for this iteration: 0.000\n",
      "\n",
      "***** Iteration #11 *****\n",
      "Loss: 73.359921\n",
      "Feature norm: 14.985001\n",
      "Error norm: 3.944722\n",
      "Active features: 923\n",
      "Line search trials: 1\n",
      "Line search step: 1.000000\n",
      "Seconds required for this iteration: 0.000\n",
      "\n",
      "***** Iteration #12 *****\n",
      "Loss: 71.765787\n",
      "Feature norm: 14.946214\n",
      "Error norm: 4.146699\n",
      "Active features: 839\n",
      "Line search trials: 1\n",
      "Line search step: 1.000000\n",
      "Seconds required for this iteration: 0.000\n",
      "\n",
      "***** Iteration #13 *****\n",
      "Loss: 70.814783\n",
      "Feature norm: 14.823498\n",
      "Error norm: 2.074830\n",
      "Active features: 818\n",
      "Line search trials: 1\n",
      "Line search step: 1.000000\n",
      "Seconds required for this iteration: 0.000\n",
      "\n",
      "***** Iteration #14 *****\n",
      "Loss: 70.056169\n",
      "Feature norm: 14.766385\n",
      "Error norm: 1.980766\n",
      "Active features: 766\n",
      "Line search trials: 1\n",
      "Line search step: 1.000000\n",
      "Seconds required for this iteration: 0.000\n",
      "\n",
      "***** Iteration #15 *****\n",
      "Loss: 69.710536\n",
      "Feature norm: 14.872234\n",
      "Error norm: 4.141836\n",
      "Active features: 670\n",
      "Line search trials: 1\n",
      "Line search step: 1.000000\n",
      "Seconds required for this iteration: 0.000\n",
      "\n",
      "***** Iteration #16 *****\n",
      "Loss: 69.341629\n",
      "Feature norm: 14.909517\n",
      "Error norm: 1.263022\n",
      "Active features: 677\n",
      "Line search trials: 1\n",
      "Line search step: 1.000000\n",
      "Seconds required for this iteration: 0.000\n",
      "\n",
      "***** Iteration #17 *****\n",
      "Loss: 69.211088\n",
      "Feature norm: 14.975292\n",
      "Error norm: 1.074188\n",
      "Active features: 660\n",
      "Line search trials: 1\n",
      "Line search step: 1.000000\n",
      "Seconds required for this iteration: 0.000\n",
      "\n",
      "***** Iteration #18 *****\n",
      "Loss: 68.992362\n",
      "Feature norm: 15.105333\n",
      "Error norm: 0.845604\n",
      "Active features: 637\n",
      "Line search trials: 1\n",
      "Line search step: 1.000000\n",
      "Seconds required for this iteration: 0.000\n",
      "\n",
      "***** Iteration #19 *****\n",
      "Loss: 68.869146\n",
      "Feature norm: 15.372506\n",
      "Error norm: 2.880865\n",
      "Active features: 583\n",
      "Line search trials: 1\n",
      "Line search step: 1.000000\n",
      "Seconds required for this iteration: 0.000\n",
      "\n",
      "***** Iteration #20 *****\n",
      "Loss: 68.692980\n",
      "Feature norm: 15.373762\n",
      "Error norm: 1.136472\n",
      "Active features: 589\n",
      "Line search trials: 1\n",
      "Line search step: 1.000000\n",
      "Seconds required for this iteration: 0.000\n",
      "\n",
      "***** Iteration #21 *****\n",
      "Loss: 68.654659\n",
      "Feature norm: 15.330310\n",
      "Error norm: 0.680493\n",
      "Active features: 590\n",
      "Line search trials: 1\n",
      "Line search step: 1.000000\n",
      "Seconds required for this iteration: 0.000\n",
      "\n",
      "***** Iteration #22 *****\n",
      "Loss: 68.602956\n",
      "Feature norm: 15.282856\n",
      "Error norm: 0.478967\n",
      "Active features: 576\n",
      "Line search trials: 1\n",
      "Line search step: 1.000000\n",
      "Seconds required for this iteration: 0.000\n",
      "\n",
      "***** Iteration #23 *****\n",
      "Loss: 68.526179\n",
      "Feature norm: 15.247718\n",
      "Error norm: 0.492149\n",
      "Active features: 553\n",
      "Line search trials: 1\n",
      "Line search step: 1.000000\n",
      "Seconds required for this iteration: 0.000\n",
      "\n",
      "***** Iteration #24 *****\n",
      "Loss: 68.514482\n",
      "Feature norm: 15.287831\n",
      "Error norm: 1.232653\n",
      "Active features: 545\n",
      "Line search trials: 1\n",
      "Line search step: 1.000000\n",
      "Seconds required for this iteration: 0.000\n",
      "\n",
      "***** Iteration #25 *****\n",
      "Loss: 68.479214\n",
      "Feature norm: 15.269944\n",
      "Error norm: 0.296690\n",
      "Active features: 550\n",
      "Line search trials: 1\n",
      "Line search step: 1.000000\n",
      "Seconds required for this iteration: 0.000\n",
      "\n",
      "***** Iteration #26 *****\n",
      "Loss: 68.468402\n",
      "Feature norm: 15.270987\n",
      "Error norm: 0.237269\n",
      "Active features: 547\n",
      "Line search trials: 1\n",
      "Line search step: 1.000000\n",
      "Seconds required for this iteration: 0.000\n",
      "\n",
      "***** Iteration #27 *****\n",
      "Loss: 68.450014\n",
      "Feature norm: 15.289891\n",
      "Error norm: 0.488787\n",
      "Active features: 546\n",
      "Line search trials: 1\n",
      "Line search step: 1.000000\n",
      "Seconds required for this iteration: 0.000\n",
      "\n",
      "***** Iteration #28 *****\n",
      "Loss: 68.448078\n",
      "Feature norm: 15.320395\n",
      "Error norm: 0.897748\n",
      "Active features: 549\n",
      "Line search trials: 1\n",
      "Line search step: 1.000000\n",
      "Seconds required for this iteration: 0.000\n",
      "\n",
      "***** Iteration #29 *****\n",
      "Loss: 68.433189\n",
      "Feature norm: 15.317445\n",
      "Error norm: 0.209424\n",
      "Active features: 554\n",
      "Line search trials: 1\n",
      "Line search step: 1.000000\n",
      "Seconds required for this iteration: 0.000\n",
      "\n",
      "***** Iteration #30 *****\n",
      "Loss: 68.430460\n",
      "Feature norm: 15.322106\n",
      "Error norm: 0.172238\n",
      "Active features: 548\n",
      "Line search trials: 1\n",
      "Line search step: 1.000000\n",
      "Seconds required for this iteration: 0.000\n",
      "\n",
      "***** Iteration #31 *****\n",
      "Loss: 68.424893\n",
      "Feature norm: 15.329636\n",
      "Error norm: 0.184139\n",
      "Active features: 534\n",
      "Line search trials: 1\n",
      "Line search step: 1.000000\n",
      "Seconds required for this iteration: 0.000\n",
      "\n",
      "***** Iteration #32 *****\n",
      "Loss: 68.420764\n",
      "Feature norm: 15.337739\n",
      "Error norm: 0.199436\n",
      "Active features: 528\n",
      "Line search trials: 1\n",
      "Line search step: 1.000000\n",
      "Seconds required for this iteration: 0.000\n",
      "\n",
      "***** Iteration #33 *****\n",
      "Loss: 68.417865\n",
      "Feature norm: 15.339120\n",
      "Error norm: 0.114053\n",
      "Active features: 529\n",
      "Line search trials: 1\n",
      "Line search step: 1.000000\n",
      "Seconds required for this iteration: 0.000\n",
      "\n",
      "***** Iteration #34 *****\n",
      "Loss: 68.415845\n",
      "Feature norm: 15.341226\n",
      "Error norm: 0.126238\n",
      "Active features: 527\n",
      "Line search trials: 1\n",
      "Line search step: 1.000000\n",
      "Seconds required for this iteration: 0.000\n",
      "\n",
      "***** Iteration #35 *****\n",
      "Loss: 68.414600\n",
      "Feature norm: 15.336003\n",
      "Error norm: 0.160140\n",
      "Active features: 526\n",
      "Line search trials: 1\n",
      "Line search step: 1.000000\n",
      "Seconds required for this iteration: 0.000\n",
      "\n",
      "***** Iteration #36 *****\n",
      "Loss: 68.413736\n",
      "Feature norm: 15.335078\n",
      "Error norm: 0.128219\n",
      "Active features: 524\n",
      "Line search trials: 1\n",
      "Line search step: 1.000000\n",
      "Seconds required for this iteration: 0.000\n",
      "\n",
      "***** Iteration #37 *****\n",
      "Loss: 68.412975\n",
      "Feature norm: 15.333791\n",
      "Error norm: 0.080523\n",
      "Active features: 524\n",
      "Line search trials: 1\n",
      "Line search step: 1.000000\n",
      "Seconds required for this iteration: 0.000\n",
      "\n",
      "***** Iteration #38 *****\n",
      "Loss: 68.412313\n",
      "Feature norm: 15.332127\n",
      "Error norm: 0.064878\n",
      "Active features: 524\n",
      "Line search trials: 1\n",
      "Line search step: 1.000000\n",
      "Seconds required for this iteration: 0.000\n",
      "\n",
      "***** Iteration #39 *****\n",
      "Loss: 68.411244\n",
      "Feature norm: 15.330838\n",
      "Error norm: 0.071546\n",
      "Active features: 524\n",
      "Line search trials: 1\n",
      "Line search step: 1.000000\n",
      "Seconds required for this iteration: 0.000\n",
      "\n",
      "***** Iteration #40 *****\n",
      "Loss: 68.410701\n",
      "Feature norm: 15.330289\n",
      "Error norm: 0.129487\n",
      "Active features: 523\n",
      "Line search trials: 1\n",
      "Line search step: 1.000000\n",
      "Seconds required for this iteration: 0.000\n",
      "\n",
      "***** Iteration #41 *****\n",
      "Loss: 68.410136\n",
      "Feature norm: 15.330794\n",
      "Error norm: 0.054228\n",
      "Active features: 519\n",
      "Line search trials: 1\n",
      "Line search step: 1.000000\n",
      "Seconds required for this iteration: 0.000\n",
      "\n",
      "***** Iteration #42 *****\n",
      "Loss: 68.409860\n",
      "Feature norm: 15.331202\n",
      "Error norm: 0.045155\n",
      "Active features: 519\n",
      "Line search trials: 1\n",
      "Line search step: 1.000000\n",
      "Seconds required for this iteration: 0.000\n",
      "\n",
      "***** Iteration #43 *****\n",
      "Loss: 68.409566\n",
      "Feature norm: 15.333108\n",
      "Error norm: 0.057597\n",
      "Active features: 519\n",
      "Line search trials: 1\n",
      "Line search step: 1.000000\n",
      "Seconds required for this iteration: 0.000\n",
      "\n",
      "***** Iteration #44 *****\n",
      "Loss: 68.409350\n",
      "Feature norm: 15.333174\n",
      "Error norm: 0.051859\n",
      "Active features: 519\n",
      "Line search trials: 1\n",
      "Line search step: 1.000000\n",
      "Seconds required for this iteration: 0.000\n",
      "\n",
      "***** Iteration #45 *****\n",
      "Loss: 68.409231\n",
      "Feature norm: 15.334514\n",
      "Error norm: 0.059754\n",
      "Active features: 519\n",
      "Line search trials: 1\n",
      "Line search step: 1.000000\n",
      "Seconds required for this iteration: 0.000\n",
      "\n",
      "***** Iteration #46 *****\n",
      "Loss: 68.409115\n",
      "Feature norm: 15.333825\n",
      "Error norm: 0.044462\n",
      "Active features: 522\n",
      "Line search trials: 1\n",
      "Line search step: 1.000000\n",
      "Seconds required for this iteration: 0.000\n",
      "\n",
      "***** Iteration #47 *****\n",
      "Loss: 68.409017\n",
      "Feature norm: 15.334166\n",
      "Error norm: 0.035628\n",
      "Active features: 522\n",
      "Line search trials: 1\n",
      "Line search step: 1.000000\n",
      "Seconds required for this iteration: 0.000\n",
      "\n",
      "***** Iteration #48 *****\n",
      "Loss: 68.408934\n",
      "Feature norm: 15.334110\n",
      "Error norm: 0.025969\n",
      "Active features: 522\n",
      "Line search trials: 1\n",
      "Line search step: 1.000000\n",
      "Seconds required for this iteration: 0.000\n",
      "\n",
      "***** Iteration #49 *****\n",
      "Loss: 68.408839\n",
      "Feature norm: 15.334004\n",
      "Error norm: 0.034893\n",
      "Active features: 522\n",
      "Line search trials: 1\n",
      "Line search step: 1.000000\n",
      "Seconds required for this iteration: 0.000\n",
      "\n",
      "***** Iteration #50 *****\n",
      "Loss: 68.408784\n",
      "Feature norm: 15.333824\n",
      "Error norm: 0.049573\n",
      "Active features: 522\n",
      "Line search trials: 1\n",
      "Line search step: 1.000000\n",
      "Seconds required for this iteration: 0.000\n",
      "\n",
      "***** Iteration #51 *****\n",
      "Loss: 68.408711\n",
      "Feature norm: 15.334048\n",
      "Error norm: 0.033352\n",
      "Active features: 522\n",
      "Line search trials: 1\n",
      "Line search step: 1.000000\n",
      "Seconds required for this iteration: 0.000\n",
      "\n",
      "***** Iteration #52 *****\n",
      "Loss: 68.408674\n",
      "Feature norm: 15.333265\n",
      "Error norm: 0.024979\n",
      "Active features: 522\n",
      "Line search trials: 1\n",
      "Line search step: 1.000000\n",
      "Seconds required for this iteration: 0.000\n",
      "\n",
      "***** Iteration #53 *****\n",
      "Loss: 68.408647\n",
      "Feature norm: 15.333412\n",
      "Error norm: 0.024009\n",
      "Active features: 522\n",
      "Line search trials: 1\n",
      "Line search step: 1.000000\n",
      "Seconds required for this iteration: 0.000\n",
      "\n",
      "***** Iteration #54 *****\n",
      "Loss: 68.408624\n",
      "Feature norm: 15.332896\n",
      "Error norm: 0.022221\n",
      "Active features: 522\n",
      "Line search trials: 1\n",
      "Line search step: 1.000000\n",
      "Seconds required for this iteration: 0.000\n",
      "\n",
      "***** Iteration #55 *****\n",
      "Loss: 68.408604\n",
      "Feature norm: 15.332863\n",
      "Error norm: 0.024456\n",
      "Active features: 522\n",
      "Line search trials: 1\n",
      "Line search step: 1.000000\n",
      "Seconds required for this iteration: 0.000\n",
      "\n",
      "***** Iteration #56 *****\n",
      "Loss: 68.408587\n",
      "Feature norm: 15.332464\n",
      "Error norm: 0.024127\n",
      "Active features: 522\n",
      "Line search trials: 1\n",
      "Line search step: 1.000000\n",
      "Seconds required for this iteration: 0.000\n",
      "\n",
      "***** Iteration #57 *****\n",
      "Loss: 68.408568\n",
      "Feature norm: 15.332671\n",
      "Error norm: 0.022971\n",
      "Active features: 522\n",
      "Line search trials: 1\n",
      "Line search step: 1.000000\n",
      "Seconds required for this iteration: 0.000\n",
      "\n",
      "***** Iteration #58 *****\n",
      "Loss: 68.408553\n",
      "Feature norm: 15.332327\n",
      "Error norm: 0.021581\n",
      "Active features: 522\n",
      "Line search trials: 1\n",
      "Line search step: 1.000000\n",
      "Seconds required for this iteration: 0.000\n",
      "\n",
      "***** Iteration #59 *****\n",
      "Loss: 68.408540\n",
      "Feature norm: 15.332598\n",
      "Error norm: 0.021935\n",
      "Active features: 522\n",
      "Line search trials: 1\n",
      "Line search step: 1.000000\n",
      "Seconds required for this iteration: 0.000\n",
      "\n",
      "***** Iteration #60 *****\n",
      "Loss: 68.408528\n",
      "Feature norm: 15.332285\n",
      "Error norm: 0.019160\n",
      "Active features: 522\n",
      "Line search trials: 1\n",
      "Line search step: 1.000000\n",
      "Seconds required for this iteration: 0.000\n",
      "\n",
      "***** Iteration #61 *****\n",
      "Loss: 68.408516\n",
      "Feature norm: 15.332466\n",
      "Error norm: 0.017006\n",
      "Active features: 522\n",
      "Line search trials: 1\n",
      "Line search step: 1.000000\n",
      "Seconds required for this iteration: 0.000\n",
      "\n",
      "***** Iteration #62 *****\n",
      "Loss: 68.408504\n",
      "Feature norm: 15.332399\n",
      "Error norm: 0.013816\n",
      "Active features: 522\n",
      "Line search trials: 1\n",
      "Line search step: 1.000000\n",
      "Seconds required for this iteration: 0.000\n",
      "\n",
      "***** Iteration #63 *****\n",
      "Loss: 68.408494\n",
      "Feature norm: 15.332502\n",
      "Error norm: 0.017167\n",
      "Active features: 522\n",
      "Line search trials: 1\n",
      "Line search step: 1.000000\n",
      "Seconds required for this iteration: 0.000\n",
      "\n",
      "***** Iteration #64 *****\n",
      "Loss: 68.408487\n",
      "Feature norm: 15.332430\n",
      "Error norm: 0.018723\n",
      "Active features: 522\n",
      "Line search trials: 1\n",
      "Line search step: 1.000000\n",
      "Seconds required for this iteration: 0.000\n",
      "\n",
      "***** Iteration #65 *****\n",
      "Loss: 68.408478\n",
      "Feature norm: 15.332704\n",
      "Error norm: 0.019072\n",
      "Active features: 522\n",
      "Line search trials: 1\n",
      "Line search step: 1.000000\n",
      "Seconds required for this iteration: 0.000\n",
      "\n",
      "***** Iteration #66 *****\n",
      "Loss: 68.408470\n",
      "Feature norm: 15.332619\n",
      "Error norm: 0.013444\n",
      "Active features: 522\n",
      "Line search trials: 1\n",
      "Line search step: 1.000000\n",
      "Seconds required for this iteration: 0.000\n",
      "\n",
      "***** Iteration #67 *****\n",
      "Loss: 68.408462\n",
      "Feature norm: 15.332839\n",
      "Error norm: 0.011748\n",
      "Active features: 522\n",
      "Line search trials: 1\n",
      "Line search step: 1.000000\n",
      "Seconds required for this iteration: 0.000\n",
      "\n",
      "***** Iteration #68 *****\n",
      "Loss: 68.408455\n",
      "Feature norm: 15.332831\n",
      "Error norm: 0.009835\n",
      "Active features: 522\n",
      "Line search trials: 1\n",
      "Line search step: 1.000000\n",
      "Seconds required for this iteration: 0.000\n",
      "\n",
      "***** Iteration #69 *****\n",
      "Loss: 68.408450\n",
      "Feature norm: 15.333064\n",
      "Error norm: 0.014033\n",
      "Active features: 522\n",
      "Line search trials: 1\n",
      "Line search step: 1.000000\n",
      "Seconds required for this iteration: 0.000\n",
      "\n",
      "***** Iteration #70 *****\n",
      "Loss: 68.408444\n",
      "Feature norm: 15.333096\n",
      "Error norm: 0.014960\n",
      "Active features: 522\n",
      "Line search trials: 1\n",
      "Line search step: 1.000000\n",
      "Seconds required for this iteration: 0.000\n",
      "\n",
      "***** Iteration #71 *****\n",
      "Loss: 68.408440\n",
      "Feature norm: 15.333200\n",
      "Error norm: 0.013405\n",
      "Active features: 522\n",
      "Line search trials: 1\n",
      "Line search step: 1.000000\n",
      "Seconds required for this iteration: 0.000\n",
      "\n",
      "***** Iteration #72 *****\n",
      "Loss: 68.408434\n",
      "Feature norm: 15.333199\n",
      "Error norm: 0.010283\n",
      "Active features: 522\n",
      "Line search trials: 1\n",
      "Line search step: 1.000000\n",
      "Seconds required for this iteration: 0.000\n",
      "\n",
      "***** Iteration #73 *****\n",
      "Loss: 68.408431\n",
      "Feature norm: 15.333206\n",
      "Error norm: 0.008205\n",
      "Active features: 522\n",
      "Line search trials: 1\n",
      "Line search step: 1.000000\n",
      "Seconds required for this iteration: 0.000\n",
      "\n",
      "L-BFGS terminated with the stopping criteria\n",
      "Total seconds required for training: 0.019\n",
      "\n",
      "Storing the model\n",
      "Number of active features: 522 (1763)\n",
      "Number of active attributes: 266 (333)\n",
      "Number of active labels: 30 (30)\n",
      "Writing labels\n",
      "Writing attributes\n",
      "Writing feature references for transitions\n",
      "Writing feature references for attributes\n",
      "Seconds required: 0.001\n",
      "\n"
     ]
    }
   ],
   "source": [
    "# Initialise the trainer\n",
    "trainer = pycrfsuite.Trainer(algorithm='lbfgs')\n",
    "\n",
    "# Submit training data to the trainer\n",
    "for x, y in zip(X_train, y_train):\n",
    "    trainer.append(x, y)\n",
    "\n",
    "trainer.set_params({\n",
    "    'c1': 0.1,\n",
    "    'c2': 0.1,\n",
    "    'max_iterations': 156,  # Max iterations to run\n",
    "    'epsilon': 1e-6,        # Tolerance for convergence\n",
    "    'delta': 1e-6,          # Tolerance for feature norm changes\n",
    "    'feature.possible_transitions': True\n",
    "})\n",
    "\n",
    "# Providing a file name as a parameter to the train function, such that the model will be saved to the file when training is finished\n",
    "trainer.train('crf_m_o_d_e_l.crfsuite')\n"
   ]
  },
  {
   "cell_type": "markdown",
   "metadata": {},
   "source": [
    "### Predicting the test data with the built model"
   ]
  },
  {
   "cell_type": "code",
   "execution_count": 1661,
   "metadata": {
    "scrolled": true
   },
   "outputs": [
    {
     "data": {
      "text/plain": [
       "<contextlib.closing at 0x3169409b0>"
      ]
     },
     "execution_count": 1661,
     "metadata": {},
     "output_type": "execute_result"
    }
   ],
   "source": [
    "\n",
    "# Load the trained model\n",
    "crf_model = pycrfsuite.Tagger()\n",
    "crf_model.open('crf_m_o_d_e_l.crfsuite')\n"
   ]
  },
  {
   "cell_type": "code",
   "execution_count": 1662,
   "metadata": {},
   "outputs": [
    {
     "data": {
      "text/plain": [
       "[['FOR', 'Duration', 'TO', 'PeriodMax', 'PeriodUnit'],\n",
       " ['EVERY', 'Period', 'PeriodUnit'],\n",
       " ['QID'],\n",
       " ['Method', 'Qty', 'Form', 'TID', 'DAILY'],\n",
       " ['EVERY', 'Period', 'TO', 'PeriodMax', 'PeriodUnit'],\n",
       " ['EVERY', 'Period', 'PeriodUnit'],\n",
       " ['Qty', 'Form', 'BEFORE', 'WHEN', 'AND', 'WHEN'],\n",
       " ['Qty', 'Form', 'Frequency', 'Period', 'PeriodUnit'],\n",
       " ['Method', 'Qty', 'Form', 'BEFORE', 'WHEN'],\n",
       " ['Method',\n",
       "  'Qty',\n",
       "  'Form',\n",
       "  'Frequency',\n",
       "  'PeriodUnit',\n",
       "  'FOR',\n",
       "  'Duration',\n",
       "  'DurationUnit',\n",
       "  'AT',\n",
       "  'WHEN'],\n",
       " ['FOR', 'Duration', 'DurationUnit'],\n",
       " ['FOR', 'Duration', 'DurationUnit']]"
      ]
     },
     "execution_count": 1662,
     "metadata": {},
     "output_type": "execute_result"
    }
   ],
   "source": [
    "# Predict the labels for the test data\n",
    "y_pred = [crf_model.tag(x) for x in X_test]\n",
    "\n",
    "# Flatten the predictions and true labels for evaluation\n",
    "y_pred_flat = [item for sublist in y_pred for item in sublist]\n",
    "y_test_flat = [item for sublist in y_test for item in sublist]\n",
    "y_pred"
   ]
  },
  {
   "cell_type": "code",
   "execution_count": 1663,
   "metadata": {},
   "outputs": [
    {
     "data": {
      "text/plain": [
       "0.8888888888888888"
      ]
     },
     "execution_count": 1663,
     "metadata": {},
     "output_type": "execute_result"
    }
   ],
   "source": [
    "\n",
    "# Calculate accuracy\n",
    "accuracy = accuracy_score(y_test_flat, y_pred_flat)\n",
    "accuracy\n"
   ]
  },
  {
   "cell_type": "code",
   "execution_count": 1664,
   "metadata": {},
   "outputs": [
    {
     "name": "stdout",
     "output_type": "stream",
     "text": [
      "Classification Report:\n",
      "              precision    recall  f1-score   support\n",
      "\n",
      "         AND       1.00      1.00      1.00         1\n",
      "          AT       1.00      1.00      1.00         1\n",
      "      BEFORE       1.00      1.00      1.00         2\n",
      "         BID       1.00      0.00      0.00         2\n",
      "       DAILY       0.00      1.00      0.00         0\n",
      "    Duration       1.00      1.00      1.00         4\n",
      " DurationMax       1.00      0.00      0.00         1\n",
      "DurationUnit       1.00      0.75      0.86         4\n",
      "       EVERY       1.00      1.00      1.00         3\n",
      "         FOR       1.00      1.00      1.00         4\n",
      "        Form       1.00      1.00      1.00         5\n",
      "   Frequency       0.50      1.00      0.67         1\n",
      "      Method       1.00      1.00      1.00         3\n",
      "          PO       1.00      0.00      0.00         2\n",
      "      Period       1.00      1.00      1.00         4\n",
      "   PeriodMax       0.50      1.00      0.67         1\n",
      "  PeriodUnit       0.67      1.00      0.80         4\n",
      "         QID       0.00      1.00      0.00         0\n",
      "         Qty       1.00      1.00      1.00         5\n",
      "         TID       1.00      1.00      1.00         1\n",
      "          TO       1.00      1.00      1.00         2\n",
      "        WHEN       1.00      1.00      1.00         4\n",
      "\n",
      "    accuracy                           0.89        54\n",
      "   macro avg       0.85      0.85      0.73        54\n",
      "weighted avg       0.96      0.89      0.87        54\n",
      "\n"
     ]
    }
   ],
   "source": [
    "# Generate classification report with zero_division parameter to handle undefined metrics\n",
    "\n",
    "report = classification_report(y_test_flat, y_pred_flat, zero_division=1)\n",
    "\n",
    "# Print the classification report\n",
    "print(\"Classification Report:\")\n",
    "print(report)\n",
    "\n"
   ]
  },
  {
   "cell_type": "markdown",
   "metadata": {},
   "source": [
    "here model's accuracy is 0.89, but precision, recall, and F1 scores vary significantly across labels. Some labels (like AND, Method, and Qty) have perfect scores, while others (like BID, DAILY, and PO) struggle, showing zero precision or recall"
   ]
  },
  {
   "cell_type": "markdown",
   "metadata": {},
   "source": [
    "### Putting all the prediction logic inside a predict method"
   ]
  },
  {
   "cell_type": "code",
   "execution_count": 1667,
   "metadata": {},
   "outputs": [],
   "source": [
    "import pycrfsuite\n",
    "\n",
    "def predict(sig):\n",
    "    \"\"\"\n",
    "    Predict labels for the given medical prescription sig using a CRF model.\n",
    "    \n",
    "    @param sig: A string representing a medical prescription sig written by a doctor.\n",
    "    @return: A list of lists containing predicted labels for the given sig.\n",
    "    \n",
    "    >>> predict('2 tabs every 4 hours')\n",
    "    [['Qty', 'Form', 'EVERY', 'Period', 'PeriodUnit']]\n",
    "    >>> predict('2 tabs with food')\n",
    "    [['Qty', 'Form', 'WITH', 'FOOD']]\n",
    "    >>> predict('2 tabs qid x 30 days')\n",
    "    [['Qty', 'Form', 'QID', 'FOR', 'Duration', 'DurationUnit']]\n",
    "    \"\"\"\n",
    "    \n",
    "    # Preprocess the input string into tokens\n",
    "    tokens = sig.split()\n",
    "    \n",
    "    # Assign dummy POS tags for now (this could be replaced with an actual POS tagger)\n",
    "    tokens_with_tags = [(word, \"NN\", \"\") for word in tokens]  # Simple POS tag, no labels\n",
    "    \n",
    "    # Convert the tokens into the format expected by token_to_features\n",
    "    features = get_features(tokens_with_tags)  \n",
    "    \n",
    "    # Load the trained CRF model\n",
    "    crf_model = pycrfsuite.Tagger()\n",
    "    crf_model.open('crf_m_o_d_e_l.crfsuite')\n",
    "    \n",
    "    # Use the trained CRF model to make predictions\n",
    "    predicted_labels = crf_model.tag(features)  \n",
    "    \n",
    "    # Return the predicted labels wrapped in a list to match expected output format\n",
    "    return [predicted_labels]\n",
    "\n"
   ]
  },
  {
   "cell_type": "markdown",
   "metadata": {},
   "source": [
    "### Sample predictions"
   ]
  },
  {
   "cell_type": "code",
   "execution_count": 1669,
   "metadata": {},
   "outputs": [
    {
     "data": {
      "text/plain": [
       "[['Method',\n",
       "  'Qty',\n",
       "  'Form',\n",
       "  'EVERY',\n",
       "  'Period',\n",
       "  'PeriodUnit',\n",
       "  'FOR',\n",
       "  'Duration',\n",
       "  'DurationUnit']]"
      ]
     },
     "execution_count": 1669,
     "metadata": {},
     "output_type": "execute_result"
    }
   ],
   "source": [
    "predictions = predict(\"take 2 tabs every 6 hours x 10 days\")\n",
    "predictions"
   ]
  },
  {
   "cell_type": "code",
   "execution_count": 1670,
   "metadata": {},
   "outputs": [
    {
     "data": {
      "text/plain": [
       "[['Qty', 'Form', 'FOR', 'Duration', 'DurationUnit', 'AT', 'WHEN']]"
      ]
     },
     "execution_count": 1670,
     "metadata": {},
     "output_type": "execute_result"
    }
   ],
   "source": [
    "predictions = predict(\"2 capsu for 10 day at bed\")\n",
    "predictions"
   ]
  },
  {
   "cell_type": "code",
   "execution_count": 1671,
   "metadata": {},
   "outputs": [
    {
     "data": {
      "text/plain": [
       "[['Qty', 'Form', 'FOR', 'Duration', 'DurationUnit', 'AT', 'WHEN']]"
      ]
     },
     "execution_count": 1671,
     "metadata": {},
     "output_type": "execute_result"
    }
   ],
   "source": [
    "predictions = predict(\"2 capsu for 10 days at bed\")\n",
    "predictions"
   ]
  },
  {
   "cell_type": "code",
   "execution_count": 1672,
   "metadata": {},
   "outputs": [
    {
     "data": {
      "text/plain": [
       "[['Duration', 'DurationUnit', 'Qty', 'Form', 'AT', 'WHEN']]"
      ]
     },
     "execution_count": 1672,
     "metadata": {},
     "output_type": "execute_result"
    }
   ],
   "source": [
    "predictions = predict(\"5 days 2 tabs at bed\")\n",
    "predictions"
   ]
  },
  {
   "cell_type": "code",
   "execution_count": 1673,
   "metadata": {},
   "outputs": [
    {
     "data": {
      "text/plain": [
       "[['Qty', 'Form', 'QID', 'FOR', 'Duration', 'DurationUnit']]"
      ]
     },
     "execution_count": 1673,
     "metadata": {},
     "output_type": "execute_result"
    }
   ],
   "source": [
    "predictions = predict(\"3 tabs qid x 10 weeks\")\n",
    "predictions"
   ]
  },
  {
   "cell_type": "code",
   "execution_count": 1674,
   "metadata": {},
   "outputs": [
    {
     "data": {
      "text/plain": [
       "[['FOR', 'Duration', 'DurationUnit']]"
      ]
     },
     "execution_count": 1674,
     "metadata": {},
     "output_type": "execute_result"
    }
   ],
   "source": [
    "predictions = predict(\"x 30 days\")\n",
    "predictions"
   ]
  },
  {
   "cell_type": "code",
   "execution_count": 1675,
   "metadata": {},
   "outputs": [
    {
     "data": {
      "text/plain": [
       "[['FOR', 'Period', 'PeriodUnit']]"
      ]
     },
     "execution_count": 1675,
     "metadata": {},
     "output_type": "execute_result"
    }
   ],
   "source": [
    "predictions = predict(\"x 20 months\")\n",
    "predictions"
   ]
  },
  {
   "cell_type": "code",
   "execution_count": 1676,
   "metadata": {},
   "outputs": [
    {
     "data": {
      "text/plain": [
       "[['Method', 'Qty', 'Form', 'PO', 'TID', 'FOR', 'Duration', 'DurationUnit']]"
      ]
     },
     "execution_count": 1676,
     "metadata": {},
     "output_type": "execute_result"
    }
   ],
   "source": [
    "predictions = predict(\"take 2 tabs po tid for 10 days\")\n",
    "predictions"
   ]
  },
  {
   "cell_type": "code",
   "execution_count": 1677,
   "metadata": {},
   "outputs": [
    {
     "data": {
      "text/plain": [
       "[['Method', 'Qty', 'Form', 'PO', 'EVERY', 'Period', 'PeriodUnit']]"
      ]
     },
     "execution_count": 1677,
     "metadata": {},
     "output_type": "execute_result"
    }
   ],
   "source": [
    "predictions = predict(\"take 2 capsules po every 6 hours\")\n",
    "predictions"
   ]
  },
  {
   "cell_type": "code",
   "execution_count": 1678,
   "metadata": {},
   "outputs": [
    {
     "data": {
      "text/plain": [
       "[['Method', 'Qty', 'Form', 'PO', 'TID']]"
      ]
     },
     "execution_count": 1678,
     "metadata": {},
     "output_type": "execute_result"
    }
   ],
   "source": [
    "predictions = predict(\"inject 2 units pu tid\")\n",
    "predictions"
   ]
  },
  {
   "cell_type": "code",
   "execution_count": 1679,
   "metadata": {},
   "outputs": [
    {
     "data": {
      "text/plain": [
       "[['Method', 'Qty', 'Form', 'TID', 'BY', 'PO']]"
      ]
     },
     "execution_count": 1679,
     "metadata": {},
     "output_type": "execute_result"
    }
   ],
   "source": [
    "predictions = predict(\"swallow 3 caps tid by mouth\")\n",
    "predictions"
   ]
  },
  {
   "cell_type": "code",
   "execution_count": 1680,
   "metadata": {},
   "outputs": [
    {
     "data": {
      "text/plain": [
       "[['Method', 'Qty', 'Form', 'PeriodUnit']]"
      ]
     },
     "execution_count": 1680,
     "metadata": {},
     "output_type": "execute_result"
    }
   ],
   "source": [
    "predictions = predict(\"inject 3 units orally\")\n",
    "predictions"
   ]
  },
  {
   "cell_type": "code",
   "execution_count": 1681,
   "metadata": {},
   "outputs": [
    {
     "data": {
      "text/plain": [
       "[['Method', 'Method', 'Qty', 'Form', 'TID']]"
      ]
     },
     "execution_count": 1681,
     "metadata": {},
     "output_type": "execute_result"
    }
   ],
   "source": [
    "predictions = predict(\"orally take 3 tabs tid\")\n",
    "predictions"
   ]
  },
  {
   "cell_type": "code",
   "execution_count": 1682,
   "metadata": {},
   "outputs": [
    {
     "data": {
      "text/plain": [
       "[['BY', 'PO', 'Method', 'Qty', 'Form']]"
      ]
     },
     "execution_count": 1682,
     "metadata": {},
     "output_type": "execute_result"
    }
   ],
   "source": [
    "predictions = predict(\"by mouth take three caps\")\n",
    "predictions"
   ]
  },
  {
   "cell_type": "code",
   "execution_count": 1683,
   "metadata": {},
   "outputs": [
    {
     "data": {
      "text/plain": [
       "[['Method',\n",
       "  'Qty',\n",
       "  'Form',\n",
       "  'Frequency',\n",
       "  'Frequency',\n",
       "  'TIMES',\n",
       "  'Period',\n",
       "  'PeriodUnit',\n",
       "  'FOR',\n",
       "  'Duration',\n",
       "  'DurationUnit',\n",
       "  'AT',\n",
       "  'WHEN']]"
      ]
     },
     "execution_count": 1683,
     "metadata": {},
     "output_type": "execute_result"
    }
   ],
   "source": [
    "predictions = predict(\"take 3 tabs orally three times a day for 10 days at bedtime\")\n",
    "predictions"
   ]
  },
  {
   "cell_type": "code",
   "execution_count": 1684,
   "metadata": {},
   "outputs": [
    {
     "data": {
      "text/plain": [
       "[['Method',\n",
       "  'Qty',\n",
       "  'Form',\n",
       "  'Frequency',\n",
       "  'TID',\n",
       "  'FOR',\n",
       "  'Duration',\n",
       "  'DurationUnit',\n",
       "  'AT',\n",
       "  'WHEN']]"
      ]
     },
     "execution_count": 1684,
     "metadata": {},
     "output_type": "execute_result"
    }
   ],
   "source": [
    "predictions = predict(\"take 3 tabs orally bid for 10 days at bedtime\")\n",
    "predictions"
   ]
  },
  {
   "cell_type": "code",
   "execution_count": 1685,
   "metadata": {},
   "outputs": [
    {
     "data": {
      "text/plain": [
       "[['Method', 'Qty', 'Form', 'Frequency', 'PeriodUnit', 'AT', 'WHEN']]"
      ]
     },
     "execution_count": 1685,
     "metadata": {},
     "output_type": "execute_result"
    }
   ],
   "source": [
    "predictions = predict(\"take 3 tabs bid orally at bed\")\n",
    "predictions"
   ]
  },
  {
   "cell_type": "code",
   "execution_count": 1686,
   "metadata": {},
   "outputs": [
    {
     "data": {
      "text/plain": [
       "[['Method', 'Qty', 'Form', 'BY', 'PO', 'QID']]"
      ]
     },
     "execution_count": 1686,
     "metadata": {},
     "output_type": "execute_result"
    }
   ],
   "source": [
    "predictions = predict(\"take 10 capsules by mouth qid\")\n",
    "predictions"
   ]
  },
  {
   "cell_type": "code",
   "execution_count": 1687,
   "metadata": {},
   "outputs": [
    {
     "data": {
      "text/plain": [
       "[['Method', 'Qty', 'Form', 'Frequency', 'QID', 'Q6H', 'Period', 'PeriodUnit']]"
      ]
     },
     "execution_count": 1687,
     "metadata": {},
     "output_type": "execute_result"
    }
   ],
   "source": [
    "predictions = predict(\"inject 10 units orally qid x 3 months\")\n",
    "predictions"
   ]
  },
  {
   "cell_type": "code",
   "execution_count": 1688,
   "metadata": {},
   "outputs": [
    {
     "data": {
      "text/plain": [
       "[['Method', 'Qty', 'Form', 'Frequency', 'QID', 'Q6H', 'Period', 'PeriodUnit']]"
      ]
     },
     "execution_count": 1688,
     "metadata": {},
     "output_type": "execute_result"
    }
   ],
   "source": [
    "prediction = predict(\"please take 2 tablets per day for a month in the morning and evening each day\")\n",
    "predictions"
   ]
  },
  {
   "cell_type": "code",
   "execution_count": 1689,
   "metadata": {},
   "outputs": [
    {
     "data": {
      "text/plain": [
       "[['Method', 'Qty', 'Form', 'Frequency', 'QID', 'Q6H', 'Period', 'PeriodUnit']]"
      ]
     },
     "execution_count": 1689,
     "metadata": {},
     "output_type": "execute_result"
    }
   ],
   "source": [
    "prediction = predict(\"Amoxcicillin QID 30 tablets\")\n",
    "predictions"
   ]
  },
  {
   "cell_type": "code",
   "execution_count": 1690,
   "metadata": {},
   "outputs": [
    {
     "data": {
      "text/plain": [
       "[['Method',\n",
       "  'Qty',\n",
       "  'Form',\n",
       "  'Frequency',\n",
       "  'FOR',\n",
       "  'Duration',\n",
       "  'DurationUnit',\n",
       "  'WITH',\n",
       "  'FOOD']]"
      ]
     },
     "execution_count": 1690,
     "metadata": {},
     "output_type": "execute_result"
    }
   ],
   "source": [
    "prediction = predict(\"take 3 tabs TID for 90 days with food\")\n",
    "prediction"
   ]
  },
  {
   "cell_type": "code",
   "execution_count": 1691,
   "metadata": {},
   "outputs": [
    {
     "data": {
      "text/plain": [
       "[['WITH',\n",
       "  'FOOD',\n",
       "  'Method',\n",
       "  'Qty',\n",
       "  'Form',\n",
       "  'Frequency',\n",
       "  'PeriodUnit',\n",
       "  'FOR',\n",
       "  'Duration',\n",
       "  'DurationUnit']]"
      ]
     },
     "execution_count": 1691,
     "metadata": {},
     "output_type": "execute_result"
    }
   ],
   "source": [
    "prediction = predict(\"with food take 3 tablets per day for 90 days\")\n",
    "prediction"
   ]
  },
  {
   "cell_type": "code",
   "execution_count": 1692,
   "metadata": {},
   "outputs": [
    {
     "name": "stdout",
     "output_type": "stream",
     "text": [
      "[['WITH', 'FOOD', 'Method', 'Qty', 'Form', 'Frequency', 'PeriodUnit', 'FOR', 'Duration', 'DurationUnit']]\n"
     ]
    }
   ],
   "source": [
    "prediction = predict(\"with food take 3 tablets per week for 90 weeks\")\n",
    "print(prediction)"
   ]
  },
  {
   "cell_type": "code",
   "execution_count": 1693,
   "metadata": {},
   "outputs": [
    {
     "name": "stdout",
     "output_type": "stream",
     "text": [
      "[['Method', 'Qty', 'Form']]\n"
     ]
    }
   ],
   "source": [
    "prediction = predict(\"take 2-4 tabs\")\n",
    "print(prediction)"
   ]
  },
  {
   "cell_type": "code",
   "execution_count": 1694,
   "metadata": {},
   "outputs": [
    {
     "data": {
      "text/plain": [
       "[['Method', 'Qty', 'TO', 'Qty', 'Form']]"
      ]
     },
     "execution_count": 1694,
     "metadata": {},
     "output_type": "execute_result"
    }
   ],
   "source": [
    "prediction = predict(\"take 2 to 4 tabs\")\n",
    "prediction"
   ]
  },
  {
   "cell_type": "code",
   "execution_count": 1695,
   "metadata": {},
   "outputs": [
    {
     "data": {
      "text/plain": [
       "[['Method', 'Qty', 'TO', 'Qty', 'Form']]"
      ]
     },
     "execution_count": 1695,
     "metadata": {},
     "output_type": "execute_result"
    }
   ],
   "source": [
    "prediction = predict(\"take two to four tabs\")\n",
    "prediction"
   ]
  },
  {
   "cell_type": "code",
   "execution_count": 1696,
   "metadata": {},
   "outputs": [
    {
     "data": {
      "text/plain": [
       "[['Method', 'Qty', 'Form', 'FOR', 'Duration', 'TO', 'PeriodMax', 'PeriodUnit']]"
      ]
     },
     "execution_count": 1696,
     "metadata": {},
     "output_type": "execute_result"
    }
   ],
   "source": [
    "prediction = predict(\"take 2-4 tabs for 8 to 9 days\")\n",
    "prediction"
   ]
  },
  {
   "cell_type": "code",
   "execution_count": 1697,
   "metadata": {},
   "outputs": [
    {
     "data": {
      "text/plain": [
       "[['Method', 'Qty', 'Form', 'EVERY', 'Period', 'TO', 'PeriodMax', 'PeriodUnit']]"
      ]
     },
     "execution_count": 1697,
     "metadata": {},
     "output_type": "execute_result"
    }
   ],
   "source": [
    "prediction = predict(\"take 20 tabs every 6 to 8 days\")\n",
    "prediction"
   ]
  },
  {
   "cell_type": "code",
   "execution_count": 1698,
   "metadata": {},
   "outputs": [
    {
     "data": {
      "text/plain": [
       "[['Method', 'Qty', 'Form', 'EVERY', 'Period', 'TO', 'PeriodMax', 'PeriodUnit']]"
      ]
     },
     "execution_count": 1698,
     "metadata": {},
     "output_type": "execute_result"
    }
   ],
   "source": [
    "prediction = predict(\"take 2 tabs every 4 to 6 days\")\n",
    "prediction"
   ]
  },
  {
   "cell_type": "code",
   "execution_count": 1699,
   "metadata": {},
   "outputs": [
    {
     "data": {
      "text/plain": [
       "[['Method',\n",
       "  'Qty',\n",
       "  'Form',\n",
       "  'EVERY',\n",
       "  'Period',\n",
       "  'TO',\n",
       "  'Duration',\n",
       "  'DurationUnit']]"
      ]
     },
     "execution_count": 1699,
     "metadata": {},
     "output_type": "execute_result"
    }
   ],
   "source": [
    "prediction = predict(\"take 2 tabs every 2 to 10 weeks\")\n",
    "prediction"
   ]
  },
  {
   "cell_type": "code",
   "execution_count": 1700,
   "metadata": {},
   "outputs": [
    {
     "data": {
      "text/plain": [
       "[['Method', 'Qty', 'Form', 'EVERY', 'Period', 'TO', 'PeriodMax', 'PeriodUnit']]"
      ]
     },
     "execution_count": 1700,
     "metadata": {},
     "output_type": "execute_result"
    }
   ],
   "source": [
    "prediction = predict(\"take 2 tabs every 4 to 6 days\")\n",
    "prediction"
   ]
  },
  {
   "cell_type": "code",
   "execution_count": 1701,
   "metadata": {},
   "outputs": [
    {
     "data": {
      "text/plain": [
       "[['Method', 'Qty', 'Form', 'EVERY', 'Period', 'TO', 'PeriodMax', 'PeriodUnit']]"
      ]
     },
     "execution_count": 1701,
     "metadata": {},
     "output_type": "execute_result"
    }
   ],
   "source": [
    "prediction = predict(\"take 2 tabs every 2 to 10 months\")\n",
    "prediction"
   ]
  },
  {
   "cell_type": "code",
   "execution_count": 1702,
   "metadata": {},
   "outputs": [
    {
     "data": {
      "text/plain": [
       "[['EVERY', 'Period', 'PeriodUnit']]"
      ]
     },
     "execution_count": 1702,
     "metadata": {},
     "output_type": "execute_result"
    }
   ],
   "source": [
    "prediction = predict(\"every 60 mins\")\n",
    "prediction"
   ]
  },
  {
   "cell_type": "code",
   "execution_count": 1703,
   "metadata": {},
   "outputs": [
    {
     "data": {
      "text/plain": [
       "[['EVERY', 'Period', 'PeriodUnit']]"
      ]
     },
     "execution_count": 1703,
     "metadata": {},
     "output_type": "execute_result"
    }
   ],
   "source": [
    "prediction = predict(\"every 10 mins\")\n",
    "prediction"
   ]
  },
  {
   "cell_type": "code",
   "execution_count": 1704,
   "metadata": {},
   "outputs": [
    {
     "data": {
      "text/plain": [
       "[['EVERY', 'Period', 'TO', 'PeriodMax', 'PeriodUnit']]"
      ]
     },
     "execution_count": 1704,
     "metadata": {},
     "output_type": "execute_result"
    }
   ],
   "source": [
    "prediction = predict(\"every two to four months\")\n",
    "prediction"
   ]
  },
  {
   "cell_type": "code",
   "execution_count": 1705,
   "metadata": {},
   "outputs": [
    {
     "data": {
      "text/plain": [
       "[['Method', 'Qty', 'Form', 'EVERY', 'Period', 'TO', 'PeriodMax', 'PeriodUnit']]"
      ]
     },
     "execution_count": 1705,
     "metadata": {},
     "output_type": "execute_result"
    }
   ],
   "source": [
    "prediction = predict(\"take 2 tabs every 3 to 4 days\")\n",
    "prediction"
   ]
  },
  {
   "cell_type": "code",
   "execution_count": 1706,
   "metadata": {},
   "outputs": [
    {
     "data": {
      "text/plain": [
       "[['EVERY',\n",
       "  'Period',\n",
       "  'TO',\n",
       "  'Duration',\n",
       "  'DurationUnit',\n",
       "  'Method',\n",
       "  'Qty',\n",
       "  'Form']]"
      ]
     },
     "execution_count": 1706,
     "metadata": {},
     "output_type": "execute_result"
    }
   ],
   "source": [
    "prediction = predict(\"every 3 to 4 days take 20 tabs\")\n",
    "prediction"
   ]
  },
  {
   "cell_type": "code",
   "execution_count": 1707,
   "metadata": {},
   "outputs": [
    {
     "data": {
      "text/plain": [
       "[['Qty', 'Form', 'EVERY', 'Period', 'PeriodUnit', 'Method', 'Qty', 'Form']]"
      ]
     },
     "execution_count": 1707,
     "metadata": {},
     "output_type": "execute_result"
    }
   ],
   "source": [
    "prediction = predict(\"once in every 3 days take 3 tabs\")\n",
    "prediction"
   ]
  },
  {
   "cell_type": "code",
   "execution_count": 1708,
   "metadata": {},
   "outputs": [
    {
     "data": {
      "text/plain": [
       "[['Method', 'Qty', 'Form', 'Frequency', 'PO', 'EVERY', 'Period', 'PeriodUnit']]"
      ]
     },
     "execution_count": 1708,
     "metadata": {},
     "output_type": "execute_result"
    }
   ],
   "source": [
    "prediction = predict(\"take 3 tabs once in every 3 days\")\n",
    "prediction"
   ]
  },
  {
   "cell_type": "code",
   "execution_count": 1709,
   "metadata": {},
   "outputs": [
    {
     "data": {
      "text/plain": [
       "[['Method', 'Method', 'Qty', 'Form', 'EVERY', 'Period', 'PeriodUnit']]"
      ]
     },
     "execution_count": 1709,
     "metadata": {},
     "output_type": "execute_result"
    }
   ],
   "source": [
    "prediction = predict(\"orally take 20 tabs every 4-6 weeks\")\n",
    "prediction"
   ]
  },
  {
   "cell_type": "code",
   "execution_count": 1710,
   "metadata": {},
   "outputs": [
    {
     "data": {
      "text/plain": [
       "[['Qty', 'Form', 'FOR', 'Duration', 'DurationUnit']]"
      ]
     },
     "execution_count": 1710,
     "metadata": {},
     "output_type": "execute_result"
    }
   ],
   "source": [
    "prediction = predict(\"10 tabs x 2 days\")\n",
    "prediction"
   ]
  },
  {
   "cell_type": "code",
   "execution_count": 1711,
   "metadata": {},
   "outputs": [
    {
     "data": {
      "text/plain": [
       "[['Qty', 'Form', 'FOR', 'Duration', 'DurationUnit']]"
      ]
     },
     "execution_count": 1711,
     "metadata": {},
     "output_type": "execute_result"
    }
   ],
   "source": [
    "prediction = predict(\"3 capsule x 15 days\")\n",
    "prediction"
   ]
  },
  {
   "cell_type": "code",
   "execution_count": 1712,
   "metadata": {},
   "outputs": [
    {
     "data": {
      "text/plain": [
       "[['Qty', 'Form']]"
      ]
     },
     "execution_count": 1712,
     "metadata": {},
     "output_type": "execute_result"
    }
   ],
   "source": [
    "prediction = predict(\"10 tabs\")\n",
    "prediction"
   ]
  }
 ],
 "metadata": {
  "kernelspec": {
   "display_name": "Python [conda env:base] *",
   "language": "python",
   "name": "conda-base-py"
  },
  "language_info": {
   "codemirror_mode": {
    "name": "ipython",
    "version": 3
   },
   "file_extension": ".py",
   "mimetype": "text/x-python",
   "name": "python",
   "nbconvert_exporter": "python",
   "pygments_lexer": "ipython3",
   "version": "3.12.2"
  }
 },
 "nbformat": 4,
 "nbformat_minor": 4
}
