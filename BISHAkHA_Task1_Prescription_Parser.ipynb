{
 "cells": [
  {
   "cell_type": "markdown",
   "metadata": {},
   "source": [
    "# Task 1: Create a Prescription Parser using CRF\n",
    "This task tests your ability to build a Doctor Prescription Parser with the help of CRF model\n",
    "\n",
    "Your job is to build a Prescription Parser that takes a prescription (sentence) as an input and find / label the words in that sentence with one of the already pre-defined labels\n",
    "\n",
    "### Problem: SEQUENCE PREDICTION - Label words in a sentence\n",
    "#### Input : Doctor Prescription in the form of a sentence split into tokens\n",
    "- Ex: Take 2 tablets once a day for 10 days\n",
    "\n",
    "#### Output : FHIR Labels\n",
    "- ('Take', 'Method')\n",
    "- ('2', 'Qty') \n",
    "- ('tablets', 'Form')\n",
    "- ('once', 'Frequency')\n",
    "- ('a', 'Period') \n",
    "- ('day', 'PeriodUnit')\n",
    "- ('for', 'FOR')\n",
    "- ('10', 'Duration')\n",
    "- ('days', 'DurationUnit') "
   ]
  },
  {
   "cell_type": "markdown",
   "metadata": {},
   "source": [
    "### Major Steps\n",
    "- Install necessary library\n",
    "- Import the libraries\n",
    "- Create training data with labels\n",
    "    - Split the sentence into tokens\n",
    "    - Compute POS tags\n",
    "    - Create triples\n",
    "- Extract features\n",
    "- Split the data into training and testing set\n",
    "- Create CRF model\n",
    "- Save the CRF model\n",
    "- Load the CRF model\n",
    "- Predict on test data\n",
    "- Accuracy"
   ]
  },
  {
   "cell_type": "markdown",
   "metadata": {},
   "source": [
    "#### Install necesaary library"
   ]
  },
  {
   "cell_type": "code",
   "execution_count": 591,
   "metadata": {},
   "outputs": [
    {
     "name": "stdout",
     "output_type": "stream",
     "text": [
      "Requirement already satisfied: scikit-learn in /Applications/anaconda3/lib/python3.12/site-packages (1.5.1)\n",
      "Requirement already satisfied: numpy in /Applications/anaconda3/lib/python3.12/site-packages (1.26.4)\n",
      "Requirement already satisfied: pandas in /Applications/anaconda3/lib/python3.12/site-packages (2.2.2)\n",
      "Requirement already satisfied: nltk in /Applications/anaconda3/lib/python3.12/site-packages (3.9.1)\n",
      "Requirement already satisfied: scipy>=1.6.0 in /Applications/anaconda3/lib/python3.12/site-packages (from scikit-learn) (1.12.0)\n",
      "Requirement already satisfied: joblib>=1.2.0 in /Applications/anaconda3/lib/python3.12/site-packages (from scikit-learn) (1.4.2)\n",
      "Requirement already satisfied: threadpoolctl>=3.1.0 in /Applications/anaconda3/lib/python3.12/site-packages (from scikit-learn) (3.5.0)\n",
      "Requirement already satisfied: python-dateutil>=2.8.2 in /Applications/anaconda3/lib/python3.12/site-packages (from pandas) (2.9.0.post0)\n",
      "Requirement already satisfied: pytz>=2020.1 in /Applications/anaconda3/lib/python3.12/site-packages (from pandas) (2024.1)\n",
      "Requirement already satisfied: tzdata>=2022.7 in /Applications/anaconda3/lib/python3.12/site-packages (from pandas) (2023.3)\n",
      "Requirement already satisfied: click in /Applications/anaconda3/lib/python3.12/site-packages (from nltk) (8.1.7)\n",
      "Requirement already satisfied: regex>=2021.8.3 in /Applications/anaconda3/lib/python3.12/site-packages (from nltk) (2024.9.11)\n",
      "Requirement already satisfied: tqdm in /Applications/anaconda3/lib/python3.12/site-packages (from nltk) (4.66.5)\n",
      "Requirement already satisfied: six>=1.5 in /Applications/anaconda3/lib/python3.12/site-packages (from python-dateutil>=2.8.2->pandas) (1.16.0)\n"
     ]
    }
   ],
   "source": [
    "!pip install scikit-learn numpy pandas nltk\n"
   ]
  },
  {
   "cell_type": "markdown",
   "metadata": {},
   "source": [
    "#### Import the necessary libraries"
   ]
  },
  {
   "cell_type": "code",
   "execution_count": 593,
   "metadata": {},
   "outputs": [],
   "source": [
    "import numpy as np\n",
    "import pandas as pd\n",
    "import nltk\n",
    "from sklearn.model_selection import train_test_split\n",
    "from sklearn.metrics import accuracy_score, classification_report"
   ]
  },
  {
   "cell_type": "markdown",
   "metadata": {},
   "source": [
    "### Input data (GIVEN)\n",
    "#### Creating the inputs to the ML model in the following form:\n",
    "- sigs --> ['take 3 tabs for 10 days']       INPUT SIG\n",
    "- input_sigs --> [['take', '3', 'tabs', 'for', '10', 'days']]      TOKENS\n",
    "- output_labels --> [['Method','Qty', 'Form', 'FOR', 'Duration', 'DurationUnit']]       LABELS"
   ]
  },
  {
   "cell_type": "code",
   "execution_count": 595,
   "metadata": {},
   "outputs": [],
   "source": [
    "sigs = [\"for 5 to 6 days\", \"inject 2 units\", \"x 2 weeks\", \"x 3 days\", \"every day\", \"every 2 weeks\", \"every 3 days\", \"every 1 to 2 months\", \"every 2 to 6 weeks\", \"every 4 to 6 days\", \"take two to four tabs\", \"take 2 to 4 tabs\", \"take 3 tabs orally bid for 10 days at bedtime\", \"swallow three capsules tid orally\", \"take 2 capsules po every 6 hours\", \"take 2 tabs po for 10 days\", \"take 100 caps by mouth tid for 10 weeks\", \"take 2 tabs after an hour\", \"2 tabs every 4-6 hours\", \"every 4 to 6 hours\", \"q46h\", \"q4-6h\", \"2 hours before breakfast\", \"before 30 mins at bedtime\", \"30 mins before bed\", \"and 100 tabs twice a month\", \"100 tabs twice a month\", \"100 tabs once a month\", \"100 tabs thrice a month\", \"3 tabs daily for 3 days then 1 tab per day at bed\", \"30 tabs 10 days tid\", \"take 30 tabs for 10 days three times a day\", \"qid q6h\", \"bid\", \"qid\", \"30 tabs before dinner and bedtime\", \"30 tabs before dinner & bedtime\", \"take 3 tabs at bedtime\", \"30 tabs thrice daily for 10 days \", \"30 tabs for 10 days three times a day\", \"Take 2 tablets a day\", \"qid for 10 days\", \"every day\", \"take 2 caps at bedtime\", \"apply 3 drops before bedtime\", \"take three capsules daily\", \"swallow 3 pills once a day\", \"swallow three pills thrice a day\", \"apply daily\", \"apply three drops before bedtime\", \"every 6 hours\", \"before food\", \"after food\", \"for 20 days\", \"for twenty days\", \"with meals\"]\n",
    "input_sigs = [['for', '5', 'to', '6', 'days'], ['inject', '2', 'units'], ['x', '2', 'weeks'], ['x', '3', 'days'], ['every', 'day'], ['every', '2', 'weeks'], ['every', '3', 'days'], ['every', '1', 'to', '2', 'months'], ['every', '2', 'to', '6', 'weeks'], ['every', '4', 'to', '6', 'days'], ['take', 'two', 'to', 'four', 'tabs'], ['take', '2', 'to', '4', 'tabs'], ['take', '3', 'tabs', 'orally', 'bid', 'for', '10', 'days', 'at', 'bedtime'], ['swallow', 'three', 'capsules', 'tid', 'orally'], ['take', '2', 'capsules', 'po', 'every', '6', 'hours'], ['take', '2', 'tabs', 'po', 'for', '10', 'days'], ['take', '100', 'caps', 'by', 'mouth', 'tid', 'for', '10', 'weeks'], ['take', '2', 'tabs', 'after', 'an', 'hour'], ['2', 'tabs', 'every', '4-6', 'hours'], ['every', '4', 'to', '6', 'hours'], ['q46h'], ['q4-6h'], ['2', 'hours', 'before', 'breakfast'], ['before', '30', 'mins', 'at', 'bedtime'], ['30', 'mins', 'before', 'bed'], ['and', '100', 'tabs', 'twice', 'a', 'month'], ['100', 'tabs', 'twice', 'a', 'month'], ['100', 'tabs', 'once', 'a', 'month'], ['100', 'tabs', 'thrice', 'a', 'month'], ['3', 'tabs', 'daily', 'for', '3', 'days', 'then', '1', 'tab', 'per', 'day', 'at', 'bed'], ['30', 'tabs', '10', 'days', 'tid'], ['take', '30', 'tabs', 'for', '10', 'days', 'three', 'times', 'a', 'day'], ['qid', 'q6h'], ['bid'], ['qid'], ['30', 'tabs', 'before', 'dinner', 'and', 'bedtime'], ['30', 'tabs', 'before', 'dinner', '&', 'bedtime'], ['take', '3', 'tabs', 'at', 'bedtime'], ['30', 'tabs', 'thrice', 'daily', 'for', '10', 'days'], ['30', 'tabs', 'for', '10', 'days', 'three', 'times', 'a', 'day'], ['take', '2', 'tablets', 'a', 'day'], ['qid', 'for', '10', 'days'], ['every', 'day'], ['take', '2', 'caps', 'at', 'bedtime'], ['apply', '3', 'drops', 'before', 'bedtime'], ['take', 'three', 'capsules', 'daily'], ['swallow', '3', 'pills', 'once', 'a', 'day'], ['swallow', 'three', 'pills', 'thrice', 'a', 'day'], ['apply', 'daily'], ['apply', 'three', 'drops', 'before', 'bedtime'], ['every', '6', 'hours'], ['before', 'food'], ['after', 'food'], ['for', '20', 'days'], ['for', 'twenty', 'days'], ['with', 'meals']]\n",
    "output_labels = [['FOR', 'Duration', 'TO', 'DurationMax', 'DurationUnit'], ['Method', 'Qty', 'Form'], ['FOR', 'Duration', 'DurationUnit'], ['FOR', 'Duration', 'DurationUnit'], ['EVERY', 'Period'], ['EVERY', 'Period', 'PeriodUnit'], ['EVERY', 'Period', 'PeriodUnit'], ['EVERY', 'Period', 'TO', 'PeriodMax', 'PeriodUnit'], ['EVERY', 'Period', 'TO', 'PeriodMax', 'PeriodUnit'], ['EVERY', 'Period', 'TO', 'PeriodMax', 'PeriodUnit'], ['Method', 'Qty', 'TO', 'Qty', 'Form'], ['Method', 'Qty', 'TO', 'Qty', 'Form'], ['Method', 'Qty', 'Form', 'PO', 'BID', 'FOR', 'Duration', 'DurationUnit', 'AT', 'WHEN'], ['Method', 'Qty', 'Form', 'TID', 'PO'], ['Method', 'Qty', 'Form', 'PO', 'EVERY', 'Period', 'PeriodUnit'], ['Method', 'Qty', 'Form', 'PO', 'FOR', 'Duration', 'DurationUnit'], ['Method', 'Qty', 'Form', 'BY', 'PO', 'TID', 'FOR', 'Duration', 'DurationUnit'], ['Method', 'Qty', 'Form', 'AFTER', 'Period', 'PeriodUnit'], ['Qty', 'Form', 'EVERY', 'Period', 'PeriodUnit'], ['EVERY', 'Period', 'TO', 'PeriodMax', 'PeriodUnit'], ['Q46H'], ['Q4-6H'], ['Qty', 'PeriodUnit', 'BEFORE', 'WHEN'], ['BEFORE', 'Qty', 'M', 'AT', 'WHEN'], ['Qty', 'M', 'BEFORE', 'WHEN'], ['AND', 'Qty', 'Form', 'Frequency', 'Period', 'PeriodUnit'], ['Qty', 'Form', 'Frequency', 'Period', 'PeriodUnit'], ['Qty', 'Form', 'Frequency', 'Period', 'PeriodUnit'], ['Qty', 'Form', 'Frequency', 'Period', 'PeriodUnit'], ['Qty', 'Form', 'Frequency', 'FOR', 'Duration', 'DurationUnit', 'THEN', 'Qty', 'Form', 'Frequency', 'PeriodUnit', 'AT', 'WHEN'], ['Qty', 'Form', 'Duration', 'DurationUnit', 'TID'], ['Method', 'Qty', 'Form', 'FOR', 'Duration', 'DurationUnit', 'Qty', 'TIMES', 'Period', 'PeriodUnit'], ['QID', 'Q6H'], ['BID'], ['QID'],['Qty', 'Form', 'BEFORE', 'WHEN', 'AND', 'WHEN'], ['Qty', 'Form', 'BEFORE', 'WHEN', 'AND', 'WHEN'], ['Method', 'Qty', 'Form', 'AT', 'WHEN'], ['Qty', 'Form', 'Frequency', 'DAILY', 'FOR', 'Duration', 'DurationUnit'], ['Qty', 'Form', 'FOR', 'Duration', 'DurationUnit', 'Frequency', 'TIMES', 'Period', 'PeriodUnit'], ['Method', 'Qty', 'Form', 'Period', 'PeriodUnit'], ['QID', 'FOR', 'Duration', 'DurationUnit'], ['EVERY', 'PeriodUnit'], ['Method', 'Qty', 'Form', 'AT', 'WHEN'], ['Method', 'Qty', 'Form', 'BEFORE', 'WHEN'], ['Method', 'Qty', 'Form', 'DAILY'], ['Method', 'Qty', 'Form', 'Frequency', 'Period', 'PeriodUnit'], ['Method', 'Qty', 'Form', 'Frequency', 'Period', 'PeriodUnit'], ['Method', 'DAILY'], ['Method', 'Qty', 'Form', 'BEFORE', 'WHEN'], ['EVERY', 'Period', 'PeriodUnit'], ['BEFORE', 'FOOD'], ['AFTER', 'FOOD'], ['FOR', 'Duration', 'DurationUnit'], ['FOR', 'Duration', 'DurationUnit'], ['WITH', 'FOOD']]"
   ]
  },
  {
   "cell_type": "code",
   "execution_count": 596,
   "metadata": {},
   "outputs": [
    {
     "data": {
      "text/plain": [
       "(56, 56, 56)"
      ]
     },
     "execution_count": 596,
     "metadata": {},
     "output_type": "execute_result"
    }
   ],
   "source": [
    "len(sigs), len(input_sigs) , len(output_labels)"
   ]
  },
  {
   "cell_type": "markdown",
   "metadata": {},
   "source": [
    "### Creating a Tuples Maker method\n",
    "Create the tuples as given below by writing a function **tuples_maker(input_sigs, output_labels)** and returns **output** as given below\n",
    "\n",
    "Input(s): \n",
    "- input_sigs\n",
    "- output_lables\n",
    "\n",
    "Output:\n",
    "\n",
    "[[('for', 'FOR'),\n",
    "  ('5', 'Duration'),\n",
    "  ('to', 'TO'),\n",
    "  ('6', 'DurationMax'),\n",
    "  ('days', 'DurationUnit')], [second sentence], ...]"
   ]
  },
  {
   "cell_type": "code",
   "execution_count": 598,
   "metadata": {},
   "outputs": [],
   "source": [
    "def tuples_maker(input_sigs, output_labels):\n",
    "    \n",
    "    sample_data = []\n",
    "    for tokens, labels in zip(input_sigs, output_labels):\n",
    "        sentence_tuples = [(token, label) for token, label in zip(tokens, labels)]\n",
    "        sample_data.append(sentence_tuples)\n",
    "\n",
    "    return sample_data"
   ]
  },
  {
   "cell_type": "code",
   "execution_count": 599,
   "metadata": {},
   "outputs": [
    {
     "data": {
      "text/plain": [
       "[[('for', 'FOR'),\n",
       "  ('5', 'Duration'),\n",
       "  ('to', 'TO'),\n",
       "  ('6', 'DurationMax'),\n",
       "  ('days', 'DurationUnit')],\n",
       " [('inject', 'Method'), ('2', 'Qty'), ('units', 'Form')],\n",
       " [('x', 'FOR'), ('2', 'Duration'), ('weeks', 'DurationUnit')],\n",
       " [('x', 'FOR'), ('3', 'Duration'), ('days', 'DurationUnit')],\n",
       " [('every', 'EVERY'), ('day', 'Period')],\n",
       " [('every', 'EVERY'), ('2', 'Period'), ('weeks', 'PeriodUnit')],\n",
       " [('every', 'EVERY'), ('3', 'Period'), ('days', 'PeriodUnit')],\n",
       " [('every', 'EVERY'),\n",
       "  ('1', 'Period'),\n",
       "  ('to', 'TO'),\n",
       "  ('2', 'PeriodMax'),\n",
       "  ('months', 'PeriodUnit')],\n",
       " [('every', 'EVERY'),\n",
       "  ('2', 'Period'),\n",
       "  ('to', 'TO'),\n",
       "  ('6', 'PeriodMax'),\n",
       "  ('weeks', 'PeriodUnit')],\n",
       " [('every', 'EVERY'),\n",
       "  ('4', 'Period'),\n",
       "  ('to', 'TO'),\n",
       "  ('6', 'PeriodMax'),\n",
       "  ('days', 'PeriodUnit')],\n",
       " [('take', 'Method'),\n",
       "  ('two', 'Qty'),\n",
       "  ('to', 'TO'),\n",
       "  ('four', 'Qty'),\n",
       "  ('tabs', 'Form')],\n",
       " [('take', 'Method'),\n",
       "  ('2', 'Qty'),\n",
       "  ('to', 'TO'),\n",
       "  ('4', 'Qty'),\n",
       "  ('tabs', 'Form')],\n",
       " [('take', 'Method'),\n",
       "  ('3', 'Qty'),\n",
       "  ('tabs', 'Form'),\n",
       "  ('orally', 'PO'),\n",
       "  ('bid', 'BID'),\n",
       "  ('for', 'FOR'),\n",
       "  ('10', 'Duration'),\n",
       "  ('days', 'DurationUnit'),\n",
       "  ('at', 'AT'),\n",
       "  ('bedtime', 'WHEN')],\n",
       " [('swallow', 'Method'),\n",
       "  ('three', 'Qty'),\n",
       "  ('capsules', 'Form'),\n",
       "  ('tid', 'TID'),\n",
       "  ('orally', 'PO')],\n",
       " [('take', 'Method'),\n",
       "  ('2', 'Qty'),\n",
       "  ('capsules', 'Form'),\n",
       "  ('po', 'PO'),\n",
       "  ('every', 'EVERY'),\n",
       "  ('6', 'Period'),\n",
       "  ('hours', 'PeriodUnit')],\n",
       " [('take', 'Method'),\n",
       "  ('2', 'Qty'),\n",
       "  ('tabs', 'Form'),\n",
       "  ('po', 'PO'),\n",
       "  ('for', 'FOR'),\n",
       "  ('10', 'Duration'),\n",
       "  ('days', 'DurationUnit')],\n",
       " [('take', 'Method'),\n",
       "  ('100', 'Qty'),\n",
       "  ('caps', 'Form'),\n",
       "  ('by', 'BY'),\n",
       "  ('mouth', 'PO'),\n",
       "  ('tid', 'TID'),\n",
       "  ('for', 'FOR'),\n",
       "  ('10', 'Duration'),\n",
       "  ('weeks', 'DurationUnit')],\n",
       " [('take', 'Method'),\n",
       "  ('2', 'Qty'),\n",
       "  ('tabs', 'Form'),\n",
       "  ('after', 'AFTER'),\n",
       "  ('an', 'Period'),\n",
       "  ('hour', 'PeriodUnit')],\n",
       " [('2', 'Qty'),\n",
       "  ('tabs', 'Form'),\n",
       "  ('every', 'EVERY'),\n",
       "  ('4-6', 'Period'),\n",
       "  ('hours', 'PeriodUnit')],\n",
       " [('every', 'EVERY'),\n",
       "  ('4', 'Period'),\n",
       "  ('to', 'TO'),\n",
       "  ('6', 'PeriodMax'),\n",
       "  ('hours', 'PeriodUnit')],\n",
       " [('q46h', 'Q46H')],\n",
       " [('q4-6h', 'Q4-6H')],\n",
       " [('2', 'Qty'),\n",
       "  ('hours', 'PeriodUnit'),\n",
       "  ('before', 'BEFORE'),\n",
       "  ('breakfast', 'WHEN')],\n",
       " [('before', 'BEFORE'),\n",
       "  ('30', 'Qty'),\n",
       "  ('mins', 'M'),\n",
       "  ('at', 'AT'),\n",
       "  ('bedtime', 'WHEN')],\n",
       " [('30', 'Qty'), ('mins', 'M'), ('before', 'BEFORE'), ('bed', 'WHEN')],\n",
       " [('and', 'AND'),\n",
       "  ('100', 'Qty'),\n",
       "  ('tabs', 'Form'),\n",
       "  ('twice', 'Frequency'),\n",
       "  ('a', 'Period'),\n",
       "  ('month', 'PeriodUnit')],\n",
       " [('100', 'Qty'),\n",
       "  ('tabs', 'Form'),\n",
       "  ('twice', 'Frequency'),\n",
       "  ('a', 'Period'),\n",
       "  ('month', 'PeriodUnit')],\n",
       " [('100', 'Qty'),\n",
       "  ('tabs', 'Form'),\n",
       "  ('once', 'Frequency'),\n",
       "  ('a', 'Period'),\n",
       "  ('month', 'PeriodUnit')],\n",
       " [('100', 'Qty'),\n",
       "  ('tabs', 'Form'),\n",
       "  ('thrice', 'Frequency'),\n",
       "  ('a', 'Period'),\n",
       "  ('month', 'PeriodUnit')],\n",
       " [('3', 'Qty'),\n",
       "  ('tabs', 'Form'),\n",
       "  ('daily', 'Frequency'),\n",
       "  ('for', 'FOR'),\n",
       "  ('3', 'Duration'),\n",
       "  ('days', 'DurationUnit'),\n",
       "  ('then', 'THEN'),\n",
       "  ('1', 'Qty'),\n",
       "  ('tab', 'Form'),\n",
       "  ('per', 'Frequency'),\n",
       "  ('day', 'PeriodUnit'),\n",
       "  ('at', 'AT'),\n",
       "  ('bed', 'WHEN')],\n",
       " [('30', 'Qty'),\n",
       "  ('tabs', 'Form'),\n",
       "  ('10', 'Duration'),\n",
       "  ('days', 'DurationUnit'),\n",
       "  ('tid', 'TID')],\n",
       " [('take', 'Method'),\n",
       "  ('30', 'Qty'),\n",
       "  ('tabs', 'Form'),\n",
       "  ('for', 'FOR'),\n",
       "  ('10', 'Duration'),\n",
       "  ('days', 'DurationUnit'),\n",
       "  ('three', 'Qty'),\n",
       "  ('times', 'TIMES'),\n",
       "  ('a', 'Period'),\n",
       "  ('day', 'PeriodUnit')],\n",
       " [('qid', 'QID'), ('q6h', 'Q6H')],\n",
       " [('bid', 'BID')],\n",
       " [('qid', 'QID')],\n",
       " [('30', 'Qty'),\n",
       "  ('tabs', 'Form'),\n",
       "  ('before', 'BEFORE'),\n",
       "  ('dinner', 'WHEN'),\n",
       "  ('and', 'AND'),\n",
       "  ('bedtime', 'WHEN')],\n",
       " [('30', 'Qty'),\n",
       "  ('tabs', 'Form'),\n",
       "  ('before', 'BEFORE'),\n",
       "  ('dinner', 'WHEN'),\n",
       "  ('&', 'AND'),\n",
       "  ('bedtime', 'WHEN')],\n",
       " [('take', 'Method'),\n",
       "  ('3', 'Qty'),\n",
       "  ('tabs', 'Form'),\n",
       "  ('at', 'AT'),\n",
       "  ('bedtime', 'WHEN')],\n",
       " [('30', 'Qty'),\n",
       "  ('tabs', 'Form'),\n",
       "  ('thrice', 'Frequency'),\n",
       "  ('daily', 'DAILY'),\n",
       "  ('for', 'FOR'),\n",
       "  ('10', 'Duration'),\n",
       "  ('days', 'DurationUnit')],\n",
       " [('30', 'Qty'),\n",
       "  ('tabs', 'Form'),\n",
       "  ('for', 'FOR'),\n",
       "  ('10', 'Duration'),\n",
       "  ('days', 'DurationUnit'),\n",
       "  ('three', 'Frequency'),\n",
       "  ('times', 'TIMES'),\n",
       "  ('a', 'Period'),\n",
       "  ('day', 'PeriodUnit')],\n",
       " [('take', 'Method'),\n",
       "  ('2', 'Qty'),\n",
       "  ('tablets', 'Form'),\n",
       "  ('a', 'Period'),\n",
       "  ('day', 'PeriodUnit')],\n",
       " [('qid', 'QID'),\n",
       "  ('for', 'FOR'),\n",
       "  ('10', 'Duration'),\n",
       "  ('days', 'DurationUnit')],\n",
       " [('every', 'EVERY'), ('day', 'PeriodUnit')],\n",
       " [('take', 'Method'),\n",
       "  ('2', 'Qty'),\n",
       "  ('caps', 'Form'),\n",
       "  ('at', 'AT'),\n",
       "  ('bedtime', 'WHEN')],\n",
       " [('apply', 'Method'),\n",
       "  ('3', 'Qty'),\n",
       "  ('drops', 'Form'),\n",
       "  ('before', 'BEFORE'),\n",
       "  ('bedtime', 'WHEN')],\n",
       " [('take', 'Method'),\n",
       "  ('three', 'Qty'),\n",
       "  ('capsules', 'Form'),\n",
       "  ('daily', 'DAILY')],\n",
       " [('swallow', 'Method'),\n",
       "  ('3', 'Qty'),\n",
       "  ('pills', 'Form'),\n",
       "  ('once', 'Frequency'),\n",
       "  ('a', 'Period'),\n",
       "  ('day', 'PeriodUnit')],\n",
       " [('swallow', 'Method'),\n",
       "  ('three', 'Qty'),\n",
       "  ('pills', 'Form'),\n",
       "  ('thrice', 'Frequency'),\n",
       "  ('a', 'Period'),\n",
       "  ('day', 'PeriodUnit')],\n",
       " [('apply', 'Method'), ('daily', 'DAILY')],\n",
       " [('apply', 'Method'),\n",
       "  ('three', 'Qty'),\n",
       "  ('drops', 'Form'),\n",
       "  ('before', 'BEFORE'),\n",
       "  ('bedtime', 'WHEN')],\n",
       " [('every', 'EVERY'), ('6', 'Period'), ('hours', 'PeriodUnit')],\n",
       " [('before', 'BEFORE'), ('food', 'FOOD')],\n",
       " [('after', 'AFTER'), ('food', 'FOOD')],\n",
       " [('for', 'FOR'), ('20', 'Duration'), ('days', 'DurationUnit')],\n",
       " [('for', 'FOR'), ('twenty', 'Duration'), ('days', 'DurationUnit')],\n",
       " [('with', 'WITH'), ('meals', 'FOOD')]]"
      ]
     },
     "execution_count": 599,
     "metadata": {},
     "output_type": "execute_result"
    }
   ],
   "source": [
    "result = tuples_maker(input_sigs, output_labels)\n",
    "result\n"
   ]
  },
  {
   "cell_type": "markdown",
   "metadata": {},
   "source": [
    "### Creating the triples_maker( ) for feature extraction\n",
    "- input: tuples_maker_output\n",
    "- output: \n",
    "[[('for', 'IN', 'FOR'),\n",
    "  ('5', 'CD', 'Duration'),\n",
    "  ('to', 'TO', 'TO'),\n",
    "  ('6', 'CD', 'DurationMax'),\n",
    "  ('days', 'NNS', 'DurationUnit')], [second sentence], ... ]"
   ]
  },
  {
   "cell_type": "code",
   "execution_count": 601,
   "metadata": {},
   "outputs": [],
   "source": [
    "\n",
    "def triples_maker(whole_data):\n",
    "    sample_data = []\n",
    "    \n",
    "    for sentence in whole_data:\n",
    "        # Extract tokens and labels separately\n",
    "        tokens, labels = zip(*sentence)\n",
    "        \n",
    "        # Get POS tags for the tokens\n",
    "        pos_tags = nltk.pos_tag(tokens)\n",
    "        \n",
    "        # Form triples of (token, POS, label) and append to sample_data\n",
    "        sentence_data = [(token, pos, label) for (token, pos), label in zip(pos_tags, labels)]\n",
    "        sample_data.append(sentence_data)    \n",
    "    return sample_data \n",
    "\n"
   ]
  },
  {
   "cell_type": "code",
   "execution_count": 602,
   "metadata": {},
   "outputs": [
    {
     "data": {
      "text/plain": [
       "[[('for', 'IN', 'FOR'),\n",
       "  ('5', 'CD', 'Duration'),\n",
       "  ('to', 'TO', 'TO'),\n",
       "  ('6', 'CD', 'DurationMax'),\n",
       "  ('days', 'NNS', 'DurationUnit')],\n",
       " [('inject', 'JJ', 'Method'), ('2', 'CD', 'Qty'), ('units', 'NNS', 'Form')],\n",
       " [('x', 'RB', 'FOR'),\n",
       "  ('2', 'CD', 'Duration'),\n",
       "  ('weeks', 'NNS', 'DurationUnit')],\n",
       " [('x', 'RB', 'FOR'),\n",
       "  ('3', 'CD', 'Duration'),\n",
       "  ('days', 'NNS', 'DurationUnit')],\n",
       " [('every', 'DT', 'EVERY'), ('day', 'NN', 'Period')],\n",
       " [('every', 'DT', 'EVERY'),\n",
       "  ('2', 'CD', 'Period'),\n",
       "  ('weeks', 'NNS', 'PeriodUnit')],\n",
       " [('every', 'DT', 'EVERY'),\n",
       "  ('3', 'CD', 'Period'),\n",
       "  ('days', 'NNS', 'PeriodUnit')],\n",
       " [('every', 'DT', 'EVERY'),\n",
       "  ('1', 'CD', 'Period'),\n",
       "  ('to', 'TO', 'TO'),\n",
       "  ('2', 'CD', 'PeriodMax'),\n",
       "  ('months', 'NNS', 'PeriodUnit')],\n",
       " [('every', 'DT', 'EVERY'),\n",
       "  ('2', 'CD', 'Period'),\n",
       "  ('to', 'TO', 'TO'),\n",
       "  ('6', 'CD', 'PeriodMax'),\n",
       "  ('weeks', 'NNS', 'PeriodUnit')],\n",
       " [('every', 'DT', 'EVERY'),\n",
       "  ('4', 'CD', 'Period'),\n",
       "  ('to', 'TO', 'TO'),\n",
       "  ('6', 'CD', 'PeriodMax'),\n",
       "  ('days', 'NNS', 'PeriodUnit')],\n",
       " [('take', 'VB', 'Method'),\n",
       "  ('two', 'CD', 'Qty'),\n",
       "  ('to', 'TO', 'TO'),\n",
       "  ('four', 'CD', 'Qty'),\n",
       "  ('tabs', 'NNS', 'Form')],\n",
       " [('take', 'VB', 'Method'),\n",
       "  ('2', 'CD', 'Qty'),\n",
       "  ('to', 'TO', 'TO'),\n",
       "  ('4', 'CD', 'Qty'),\n",
       "  ('tabs', 'NNS', 'Form')],\n",
       " [('take', 'VB', 'Method'),\n",
       "  ('3', 'CD', 'Qty'),\n",
       "  ('tabs', 'NNS', 'Form'),\n",
       "  ('orally', 'RB', 'PO'),\n",
       "  ('bid', 'VBP', 'BID'),\n",
       "  ('for', 'IN', 'FOR'),\n",
       "  ('10', 'CD', 'Duration'),\n",
       "  ('days', 'NNS', 'DurationUnit'),\n",
       "  ('at', 'IN', 'AT'),\n",
       "  ('bedtime', 'NN', 'WHEN')],\n",
       " [('swallow', 'JJ', 'Method'),\n",
       "  ('three', 'CD', 'Qty'),\n",
       "  ('capsules', 'NNS', 'Form'),\n",
       "  ('tid', 'VBP', 'TID'),\n",
       "  ('orally', 'RB', 'PO')],\n",
       " [('take', 'VB', 'Method'),\n",
       "  ('2', 'CD', 'Qty'),\n",
       "  ('capsules', 'NNS', 'Form'),\n",
       "  ('po', 'RB', 'PO'),\n",
       "  ('every', 'DT', 'EVERY'),\n",
       "  ('6', 'CD', 'Period'),\n",
       "  ('hours', 'NNS', 'PeriodUnit')],\n",
       " [('take', 'VB', 'Method'),\n",
       "  ('2', 'CD', 'Qty'),\n",
       "  ('tabs', 'NNS', 'Form'),\n",
       "  ('po', 'NN', 'PO'),\n",
       "  ('for', 'IN', 'FOR'),\n",
       "  ('10', 'CD', 'Duration'),\n",
       "  ('days', 'NNS', 'DurationUnit')],\n",
       " [('take', 'VB', 'Method'),\n",
       "  ('100', 'CD', 'Qty'),\n",
       "  ('caps', 'NNS', 'Form'),\n",
       "  ('by', 'IN', 'BY'),\n",
       "  ('mouth', 'NN', 'PO'),\n",
       "  ('tid', 'NN', 'TID'),\n",
       "  ('for', 'IN', 'FOR'),\n",
       "  ('10', 'CD', 'Duration'),\n",
       "  ('weeks', 'NNS', 'DurationUnit')],\n",
       " [('take', 'VB', 'Method'),\n",
       "  ('2', 'CD', 'Qty'),\n",
       "  ('tabs', 'NNS', 'Form'),\n",
       "  ('after', 'IN', 'AFTER'),\n",
       "  ('an', 'DT', 'Period'),\n",
       "  ('hour', 'NN', 'PeriodUnit')],\n",
       " [('2', 'CD', 'Qty'),\n",
       "  ('tabs', 'JJ', 'Form'),\n",
       "  ('every', 'DT', 'EVERY'),\n",
       "  ('4-6', 'JJ', 'Period'),\n",
       "  ('hours', 'NNS', 'PeriodUnit')],\n",
       " [('every', 'DT', 'EVERY'),\n",
       "  ('4', 'CD', 'Period'),\n",
       "  ('to', 'TO', 'TO'),\n",
       "  ('6', 'CD', 'PeriodMax'),\n",
       "  ('hours', 'NNS', 'PeriodUnit')],\n",
       " [('q46h', 'NN', 'Q46H')],\n",
       " [('q4-6h', 'NN', 'Q4-6H')],\n",
       " [('2', 'CD', 'Qty'),\n",
       "  ('hours', 'NNS', 'PeriodUnit'),\n",
       "  ('before', 'IN', 'BEFORE'),\n",
       "  ('breakfast', 'NN', 'WHEN')],\n",
       " [('before', 'IN', 'BEFORE'),\n",
       "  ('30', 'CD', 'Qty'),\n",
       "  ('mins', 'NNS', 'M'),\n",
       "  ('at', 'IN', 'AT'),\n",
       "  ('bedtime', 'NN', 'WHEN')],\n",
       " [('30', 'CD', 'Qty'),\n",
       "  ('mins', 'NNS', 'M'),\n",
       "  ('before', 'IN', 'BEFORE'),\n",
       "  ('bed', 'NN', 'WHEN')],\n",
       " [('and', 'CC', 'AND'),\n",
       "  ('100', 'CD', 'Qty'),\n",
       "  ('tabs', 'NNS', 'Form'),\n",
       "  ('twice', 'RB', 'Frequency'),\n",
       "  ('a', 'DT', 'Period'),\n",
       "  ('month', 'NN', 'PeriodUnit')],\n",
       " [('100', 'CD', 'Qty'),\n",
       "  ('tabs', 'JJ', 'Form'),\n",
       "  ('twice', 'RB', 'Frequency'),\n",
       "  ('a', 'DT', 'Period'),\n",
       "  ('month', 'NN', 'PeriodUnit')],\n",
       " [('100', 'CD', 'Qty'),\n",
       "  ('tabs', 'NNS', 'Form'),\n",
       "  ('once', 'RB', 'Frequency'),\n",
       "  ('a', 'DT', 'Period'),\n",
       "  ('month', 'NN', 'PeriodUnit')],\n",
       " [('100', 'CD', 'Qty'),\n",
       "  ('tabs', 'JJ', 'Form'),\n",
       "  ('thrice', 'NN', 'Frequency'),\n",
       "  ('a', 'DT', 'Period'),\n",
       "  ('month', 'NN', 'PeriodUnit')],\n",
       " [('3', 'CD', 'Qty'),\n",
       "  ('tabs', 'JJ', 'Form'),\n",
       "  ('daily', 'RB', 'Frequency'),\n",
       "  ('for', 'IN', 'FOR'),\n",
       "  ('3', 'CD', 'Duration'),\n",
       "  ('days', 'NNS', 'DurationUnit'),\n",
       "  ('then', 'RB', 'THEN'),\n",
       "  ('1', 'CD', 'Qty'),\n",
       "  ('tab', 'NNS', 'Form'),\n",
       "  ('per', 'IN', 'Frequency'),\n",
       "  ('day', 'NN', 'PeriodUnit'),\n",
       "  ('at', 'IN', 'AT'),\n",
       "  ('bed', 'NN', 'WHEN')],\n",
       " [('30', 'CD', 'Qty'),\n",
       "  ('tabs', 'NNS', 'Form'),\n",
       "  ('10', 'CD', 'Duration'),\n",
       "  ('days', 'NNS', 'DurationUnit'),\n",
       "  ('tid', 'NN', 'TID')],\n",
       " [('take', 'VB', 'Method'),\n",
       "  ('30', 'CD', 'Qty'),\n",
       "  ('tabs', 'NNS', 'Form'),\n",
       "  ('for', 'IN', 'FOR'),\n",
       "  ('10', 'CD', 'Duration'),\n",
       "  ('days', 'NNS', 'DurationUnit'),\n",
       "  ('three', 'CD', 'Qty'),\n",
       "  ('times', 'NNS', 'TIMES'),\n",
       "  ('a', 'DT', 'Period'),\n",
       "  ('day', 'NN', 'PeriodUnit')],\n",
       " [('qid', 'NN', 'QID'), ('q6h', 'NN', 'Q6H')],\n",
       " [('bid', 'NN', 'BID')],\n",
       " [('qid', 'NN', 'QID')],\n",
       " [('30', 'CD', 'Qty'),\n",
       "  ('tabs', 'NNS', 'Form'),\n",
       "  ('before', 'IN', 'BEFORE'),\n",
       "  ('dinner', 'NN', 'WHEN'),\n",
       "  ('and', 'CC', 'AND'),\n",
       "  ('bedtime', 'NN', 'WHEN')],\n",
       " [('30', 'CD', 'Qty'),\n",
       "  ('tabs', 'NNS', 'Form'),\n",
       "  ('before', 'IN', 'BEFORE'),\n",
       "  ('dinner', 'NN', 'WHEN'),\n",
       "  ('&', 'CC', 'AND'),\n",
       "  ('bedtime', 'NN', 'WHEN')],\n",
       " [('take', 'VB', 'Method'),\n",
       "  ('3', 'CD', 'Qty'),\n",
       "  ('tabs', 'NNS', 'Form'),\n",
       "  ('at', 'IN', 'AT'),\n",
       "  ('bedtime', 'NN', 'WHEN')],\n",
       " [('30', 'CD', 'Qty'),\n",
       "  ('tabs', 'JJ', 'Form'),\n",
       "  ('thrice', 'JJ', 'Frequency'),\n",
       "  ('daily', 'RB', 'DAILY'),\n",
       "  ('for', 'IN', 'FOR'),\n",
       "  ('10', 'CD', 'Duration'),\n",
       "  ('days', 'NNS', 'DurationUnit')],\n",
       " [('30', 'CD', 'Qty'),\n",
       "  ('tabs', 'NNS', 'Form'),\n",
       "  ('for', 'IN', 'FOR'),\n",
       "  ('10', 'CD', 'Duration'),\n",
       "  ('days', 'NNS', 'DurationUnit'),\n",
       "  ('three', 'CD', 'Frequency'),\n",
       "  ('times', 'NNS', 'TIMES'),\n",
       "  ('a', 'DT', 'Period'),\n",
       "  ('day', 'NN', 'PeriodUnit')],\n",
       " [('take', 'VB', 'Method'),\n",
       "  ('2', 'CD', 'Qty'),\n",
       "  ('tablets', 'NNS', 'Form'),\n",
       "  ('a', 'DT', 'Period'),\n",
       "  ('day', 'NN', 'PeriodUnit')],\n",
       " [('qid', 'NN', 'QID'),\n",
       "  ('for', 'IN', 'FOR'),\n",
       "  ('10', 'CD', 'Duration'),\n",
       "  ('days', 'NNS', 'DurationUnit')],\n",
       " [('every', 'DT', 'EVERY'), ('day', 'NN', 'PeriodUnit')],\n",
       " [('take', 'VB', 'Method'),\n",
       "  ('2', 'CD', 'Qty'),\n",
       "  ('caps', 'NNS', 'Form'),\n",
       "  ('at', 'IN', 'AT'),\n",
       "  ('bedtime', 'NN', 'WHEN')],\n",
       " [('apply', 'RB', 'Method'),\n",
       "  ('3', 'CD', 'Qty'),\n",
       "  ('drops', 'NNS', 'Form'),\n",
       "  ('before', 'IN', 'BEFORE'),\n",
       "  ('bedtime', 'NN', 'WHEN')],\n",
       " [('take', 'VB', 'Method'),\n",
       "  ('three', 'CD', 'Qty'),\n",
       "  ('capsules', 'NNS', 'Form'),\n",
       "  ('daily', 'RB', 'DAILY')],\n",
       " [('swallow', 'JJ', 'Method'),\n",
       "  ('3', 'CD', 'Qty'),\n",
       "  ('pills', 'NNS', 'Form'),\n",
       "  ('once', 'RB', 'Frequency'),\n",
       "  ('a', 'DT', 'Period'),\n",
       "  ('day', 'NN', 'PeriodUnit')],\n",
       " [('swallow', 'JJ', 'Method'),\n",
       "  ('three', 'CD', 'Qty'),\n",
       "  ('pills', 'NNS', 'Form'),\n",
       "  ('thrice', 'VBP', 'Frequency'),\n",
       "  ('a', 'DT', 'Period'),\n",
       "  ('day', 'NN', 'PeriodUnit')],\n",
       " [('apply', 'VB', 'Method'), ('daily', 'JJ', 'DAILY')],\n",
       " [('apply', 'RB', 'Method'),\n",
       "  ('three', 'CD', 'Qty'),\n",
       "  ('drops', 'NNS', 'Form'),\n",
       "  ('before', 'IN', 'BEFORE'),\n",
       "  ('bedtime', 'NN', 'WHEN')],\n",
       " [('every', 'DT', 'EVERY'),\n",
       "  ('6', 'CD', 'Period'),\n",
       "  ('hours', 'NNS', 'PeriodUnit')],\n",
       " [('before', 'IN', 'BEFORE'), ('food', 'NN', 'FOOD')],\n",
       " [('after', 'IN', 'AFTER'), ('food', 'NN', 'FOOD')],\n",
       " [('for', 'IN', 'FOR'),\n",
       "  ('20', 'CD', 'Duration'),\n",
       "  ('days', 'NNS', 'DurationUnit')],\n",
       " [('for', 'IN', 'FOR'),\n",
       "  ('twenty', 'JJ', 'Duration'),\n",
       "  ('days', 'NNS', 'DurationUnit')],\n",
       " [('with', 'IN', 'WITH'), ('meals', 'NNS', 'FOOD')]]"
      ]
     },
     "execution_count": 602,
     "metadata": {},
     "output_type": "execute_result"
    }
   ],
   "source": [
    "whole_data = tuples_maker(input_sigs, output_labels)\n",
    "\n",
    "sample_data = triples_maker(whole_data)\n",
    "sample_data\n"
   ]
  },
  {
   "cell_type": "markdown",
   "metadata": {},
   "source": [
    "### Creating the features extractor method (GIVEN as a BASELINE)\n",
    "#### The features used are:\n",
    "- SOS, EOS, lowercase, uppercase, title, digit, postag, previous_tag, next_tag\n",
    "#### Feel free to include more features"
   ]
  },
  {
   "cell_type": "code",
   "execution_count": 604,
   "metadata": {},
   "outputs": [],
   "source": [
    "def token_to_features(doc, i):\n",
    "    word = doc[i][0]\n",
    "    postag = doc[i][1]\n",
    "\n",
    "    # Common features for all words\n",
    "    features = [\n",
    "        'bias',\n",
    "        'word.lower=' + word.lower(),\n",
    "        'word[-3:]=' + word[-3:],\n",
    "        'word[-2:]=' + word[-2:],\n",
    "        'word.isupper=%s' % word.isupper(),\n",
    "        'word.istitle=%s' % word.istitle(),\n",
    "        'word.isdigit=%s' % word.isdigit(),\n",
    "        'postag=' + postag\n",
    "    ]\n",
    "\n",
    "    # Features for words that are not\n",
    "    # at the beginning of a document\n",
    "    if i > 0:\n",
    "        word1 = doc[i-1][0]\n",
    "        postag1 = doc[i-1][1]\n",
    "        features.extend([\n",
    "            '-1:word.lower=' + word1.lower(),\n",
    "            '-1:word.istitle=%s' % word1.istitle(),\n",
    "            '-1:word.isupper=%s' % word1.isupper(),\n",
    "            '-1:word.isdigit=%s' % word1.isdigit(),\n",
    "            '-1:postag=' + postag1\n",
    "        ])\n",
    "    else:\n",
    "        # Indicate that it is the 'beginning of a document'\n",
    "        features.append('BOS')\n",
    "\n",
    "    # Features for words that are not\n",
    "    # at the end of a document\n",
    "    if i < len(doc)-1:\n",
    "        word1 = doc[i+1][0]\n",
    "        postag1 = doc[i+1][1]\n",
    "        features.extend([\n",
    "            '+1:word.lower=' + word1.lower(),\n",
    "            '+1:word.istitle=%s' % word1.istitle(),\n",
    "            '+1:word.isupper=%s' % word1.isupper(),\n",
    "            '+1:word.isdigit=%s' % word1.isdigit(),\n",
    "            '+1:postag=' + postag1\n",
    "        ])\n",
    "    else:\n",
    "        # Indicate that it is the 'end of a document'\n",
    "        features.append('EOS')\n",
    "\n",
    "    return features"
   ]
  },
  {
   "cell_type": "markdown",
   "metadata": {},
   "source": [
    "### Running the feature extractor on the training data \n",
    "- Feature extraction\n",
    "- Train-test-split"
   ]
  },
  {
   "cell_type": "code",
   "execution_count": 606,
   "metadata": {},
   "outputs": [],
   "source": [
    "\n",
    "def get_features(sentence):\n",
    "    # Extract features from tokens and labels in the sentence\n",
    "    features = []\n",
    "    for i, token in enumerate(sentence):\n",
    "        token_features = {\n",
    "            'word': token[0],\n",
    "            'POS': token[1],\n",
    "            'label': token[2],  # Assuming token is a tuple (word, POS, label)\n",
    "        }\n",
    "        features.append(token_features)\n",
    "    return features"
   ]
  },
  {
   "cell_type": "code",
   "execution_count": 607,
   "metadata": {},
   "outputs": [],
   "source": [
    "\n",
    "# Function to prepare the dataset with features\n",
    "def prepare_dataset(input_sigs, output_labels):\n",
    "    whole_data = []\n",
    "    for sig, labels in zip(input_sigs, output_labels):\n",
    "        sentence = [(sig[i], labels[i]) for i in range(len(sig))]\n",
    "        features = get_features(sentence)\n",
    "        whole_data.append(features)\n",
    "    return whole_data\n",
    "\n",
    "\n",
    "X = [get_features(doc) for doc in sample_data]\n",
    "y = [get_labels(doc) for doc in sample_data]\n",
    "\n",
    "\n",
    "X_train, X_test, y_train, y_test = train_test_split(X, y, test_size=0.2, random_state=42)\n"
   ]
  },
  {
   "cell_type": "markdown",
   "metadata": {},
   "source": [
    "### Training the CRF model with the features extracted using the feature extractor method"
   ]
  },
  {
   "cell_type": "code",
   "execution_count": 609,
   "metadata": {},
   "outputs": [],
   "source": [
    "import pycrfsuite\n"
   ]
  },
  {
   "cell_type": "code",
   "execution_count": 610,
   "metadata": {},
   "outputs": [
    {
     "name": "stdout",
     "output_type": "stream",
     "text": [
      "Feature generation\n",
      "type: CRF1d\n",
      "feature.minfreq: 0.000000\n",
      "feature.possible_states: 0\n",
      "feature.possible_transitions: 1\n",
      "0....1....2....3....4....5....6....7....8....9....10\n",
      "Number of features: 1054\n",
      "Seconds required: 0.001\n",
      "\n",
      "L-BFGS optimization\n",
      "c1: 0.100000\n",
      "c2: 0.100000\n",
      "num_memories: 6\n",
      "max_iterations: 1000\n",
      "epsilon: 0.000010\n",
      "stop: 10\n",
      "delta: 0.000010\n",
      "linesearch: MoreThuente\n",
      "linesearch.max_iterations: 20\n",
      "\n",
      "***** Iteration #1 *****\n",
      "Loss: 620.263290\n",
      "Feature norm: 1.000000\n",
      "Error norm: 82.630721\n",
      "Active features: 1054\n",
      "Line search trials: 1\n",
      "Line search step: 0.011798\n",
      "Seconds required for this iteration: 0.000\n",
      "\n",
      "***** Iteration #2 *****\n",
      "Loss: 600.499614\n",
      "Feature norm: 53.850437\n",
      "Error norm: 29.746222\n",
      "Active features: 1054\n",
      "Line search trials: 1\n",
      "Line search step: 1.000000\n",
      "Seconds required for this iteration: 0.000\n",
      "\n",
      "***** Iteration #3 *****\n",
      "Loss: 343.860543\n",
      "Feature norm: 48.130195\n",
      "Error norm: 17.299463\n",
      "Active features: 490\n",
      "Line search trials: 1\n",
      "Line search step: 1.000000\n",
      "Seconds required for this iteration: 0.000\n",
      "\n",
      "***** Iteration #4 *****\n",
      "Loss: 167.392076\n",
      "Feature norm: 35.261911\n",
      "Error norm: 8.344003\n",
      "Active features: 273\n",
      "Line search trials: 1\n",
      "Line search step: 1.000000\n",
      "Seconds required for this iteration: 0.000\n",
      "\n",
      "***** Iteration #5 *****\n",
      "Loss: 110.244432\n",
      "Feature norm: 25.746692\n",
      "Error norm: 9.718028\n",
      "Active features: 196\n",
      "Line search trials: 1\n",
      "Line search step: 1.000000\n",
      "Seconds required for this iteration: 0.000\n",
      "\n",
      "***** Iteration #6 *****\n",
      "Loss: 85.260371\n",
      "Feature norm: 20.866369\n",
      "Error norm: 8.342250\n",
      "Active features: 211\n",
      "Line search trials: 2\n",
      "Line search step: 0.500000\n",
      "Seconds required for this iteration: 0.000\n",
      "\n",
      "***** Iteration #7 *****\n",
      "Loss: 77.305419\n",
      "Feature norm: 20.649286\n",
      "Error norm: 4.203394\n",
      "Active features: 225\n",
      "Line search trials: 1\n",
      "Line search step: 1.000000\n",
      "Seconds required for this iteration: 0.000\n",
      "\n",
      "***** Iteration #8 *****\n",
      "Loss: 70.439577\n",
      "Feature norm: 18.551355\n",
      "Error norm: 3.022585\n",
      "Active features: 209\n",
      "Line search trials: 1\n",
      "Line search step: 1.000000\n",
      "Seconds required for this iteration: 0.000\n",
      "\n",
      "***** Iteration #9 *****\n",
      "Loss: 69.581636\n",
      "Feature norm: 17.476586\n",
      "Error norm: 5.458870\n",
      "Active features: 191\n",
      "Line search trials: 1\n",
      "Line search step: 1.000000\n",
      "Seconds required for this iteration: 0.000\n",
      "\n",
      "***** Iteration #10 *****\n",
      "Loss: 66.542855\n",
      "Feature norm: 18.220279\n",
      "Error norm: 1.689386\n",
      "Active features: 201\n",
      "Line search trials: 1\n",
      "Line search step: 1.000000\n",
      "Seconds required for this iteration: 0.000\n",
      "\n",
      "***** Iteration #11 *****\n",
      "Loss: 65.784320\n",
      "Feature norm: 17.771685\n",
      "Error norm: 0.981905\n",
      "Active features: 190\n",
      "Line search trials: 1\n",
      "Line search step: 1.000000\n",
      "Seconds required for this iteration: 0.000\n",
      "\n",
      "***** Iteration #12 *****\n",
      "Loss: 65.254709\n",
      "Feature norm: 17.547769\n",
      "Error norm: 0.769967\n",
      "Active features: 185\n",
      "Line search trials: 1\n",
      "Line search step: 1.000000\n",
      "Seconds required for this iteration: 0.000\n",
      "\n",
      "***** Iteration #13 *****\n",
      "Loss: 65.055209\n",
      "Feature norm: 17.516692\n",
      "Error norm: 0.444201\n",
      "Active features: 179\n",
      "Line search trials: 1\n",
      "Line search step: 1.000000\n",
      "Seconds required for this iteration: 0.000\n",
      "\n",
      "***** Iteration #14 *****\n",
      "Loss: 64.959792\n",
      "Feature norm: 17.532241\n",
      "Error norm: 0.266181\n",
      "Active features: 176\n",
      "Line search trials: 1\n",
      "Line search step: 1.000000\n",
      "Seconds required for this iteration: 0.000\n",
      "\n",
      "***** Iteration #15 *****\n",
      "Loss: 64.933482\n",
      "Feature norm: 17.508853\n",
      "Error norm: 0.207803\n",
      "Active features: 174\n",
      "Line search trials: 1\n",
      "Line search step: 1.000000\n",
      "Seconds required for this iteration: 0.000\n",
      "\n",
      "***** Iteration #16 *****\n",
      "Loss: 64.918023\n",
      "Feature norm: 17.520026\n",
      "Error norm: 0.107398\n",
      "Active features: 174\n",
      "Line search trials: 1\n",
      "Line search step: 1.000000\n",
      "Seconds required for this iteration: 0.000\n",
      "\n",
      "***** Iteration #17 *****\n",
      "Loss: 64.909539\n",
      "Feature norm: 17.517538\n",
      "Error norm: 0.075191\n",
      "Active features: 173\n",
      "Line search trials: 1\n",
      "Line search step: 1.000000\n",
      "Seconds required for this iteration: 0.000\n",
      "\n",
      "***** Iteration #18 *****\n",
      "Loss: 64.905728\n",
      "Feature norm: 17.493044\n",
      "Error norm: 0.086558\n",
      "Active features: 172\n",
      "Line search trials: 1\n",
      "Line search step: 1.000000\n",
      "Seconds required for this iteration: 0.000\n",
      "\n",
      "***** Iteration #19 *****\n",
      "Loss: 64.903681\n",
      "Feature norm: 17.505464\n",
      "Error norm: 0.030931\n",
      "Active features: 172\n",
      "Line search trials: 1\n",
      "Line search step: 1.000000\n",
      "Seconds required for this iteration: 0.000\n",
      "\n",
      "***** Iteration #20 *****\n",
      "Loss: 64.903398\n",
      "Feature norm: 17.506600\n",
      "Error norm: 0.017778\n",
      "Active features: 172\n",
      "Line search trials: 1\n",
      "Line search step: 1.000000\n",
      "Seconds required for this iteration: 0.000\n",
      "\n",
      "***** Iteration #21 *****\n",
      "Loss: 64.903129\n",
      "Feature norm: 17.507773\n",
      "Error norm: 0.012598\n",
      "Active features: 172\n",
      "Line search trials: 1\n",
      "Line search step: 1.000000\n",
      "Seconds required for this iteration: 0.000\n",
      "\n",
      "***** Iteration #22 *****\n",
      "Loss: 64.902996\n",
      "Feature norm: 17.505633\n",
      "Error norm: 0.008873\n",
      "Active features: 172\n",
      "Line search trials: 1\n",
      "Line search step: 1.000000\n",
      "Seconds required for this iteration: 0.000\n",
      "\n",
      "***** Iteration #23 *****\n",
      "Loss: 64.902971\n",
      "Feature norm: 17.507252\n",
      "Error norm: 0.008652\n",
      "Active features: 172\n",
      "Line search trials: 1\n",
      "Line search step: 1.000000\n",
      "Seconds required for this iteration: 0.000\n",
      "\n",
      "***** Iteration #24 *****\n",
      "Loss: 64.902955\n",
      "Feature norm: 17.506830\n",
      "Error norm: 0.002714\n",
      "Active features: 172\n",
      "Line search trials: 1\n",
      "Line search step: 1.000000\n",
      "Seconds required for this iteration: 0.000\n",
      "\n",
      "***** Iteration #25 *****\n",
      "Loss: 64.902951\n",
      "Feature norm: 17.506649\n",
      "Error norm: 0.001979\n",
      "Active features: 172\n",
      "Line search trials: 1\n",
      "Line search step: 1.000000\n",
      "Seconds required for this iteration: 0.000\n",
      "\n",
      "***** Iteration #26 *****\n",
      "Loss: 64.902947\n",
      "Feature norm: 17.506740\n",
      "Error norm: 0.001443\n",
      "Active features: 172\n",
      "Line search trials: 1\n",
      "Line search step: 1.000000\n",
      "Seconds required for this iteration: 0.000\n",
      "\n",
      "***** Iteration #27 *****\n",
      "Loss: 64.902946\n",
      "Feature norm: 17.506542\n",
      "Error norm: 0.001312\n",
      "Active features: 172\n",
      "Line search trials: 2\n",
      "Line search step: 0.500000\n",
      "Seconds required for this iteration: 0.000\n",
      "\n",
      "***** Iteration #28 *****\n",
      "Loss: 64.902945\n",
      "Feature norm: 17.506662\n",
      "Error norm: 0.000591\n",
      "Active features: 172\n",
      "Line search trials: 1\n",
      "Line search step: 1.000000\n",
      "Seconds required for this iteration: 0.000\n",
      "\n",
      "***** Iteration #29 *****\n",
      "Loss: 64.902945\n",
      "Feature norm: 17.506689\n",
      "Error norm: 0.000326\n",
      "Active features: 172\n",
      "Line search trials: 1\n",
      "Line search step: 1.000000\n",
      "Seconds required for this iteration: 0.000\n",
      "\n",
      "***** Iteration #30 *****\n",
      "Loss: 64.902945\n",
      "Feature norm: 17.506618\n",
      "Error norm: 0.000252\n",
      "Active features: 172\n",
      "Line search trials: 1\n",
      "Line search step: 1.000000\n",
      "Seconds required for this iteration: 0.000\n",
      "\n",
      "L-BFGS terminated with the stopping criteria\n",
      "Total seconds required for training: 0.006\n",
      "\n",
      "Storing the model\n",
      "Number of active features: 172 (1054)\n",
      "Number of active attributes: 84 (106)\n",
      "Number of active labels: 30 (30)\n",
      "Writing labels\n",
      "Writing attributes\n",
      "Writing feature references for transitions\n",
      "Writing feature references for attributes\n",
      "Seconds required: 0.000\n",
      "\n"
     ]
    }
   ],
   "source": [
    "# Initialise the trainer\n",
    "trainer = pycrfsuite.Trainer(algorithm='lbfgs')\n",
    "\n",
    "# Submit training data to the trainer\n",
    "for x, y in zip(X_train, y_train):\n",
    "    trainer.append(x, y)\n",
    "\n",
    "# Set the parameters of the model\n",
    "trainer.set_params({'c1': 0.1,'c2': 0.1,'max_iterations': 1000,'feature.possible_transitions': True, 'feature.possible_transitions': True,})\n",
    "\n",
    "# Providing a file name as a parameter to the train function, such that the model will be saved to the file when training is finished\n",
    "trainer.train('crf_m_o_d_e_l.crfsuite')\n"
   ]
  },
  {
   "cell_type": "markdown",
   "metadata": {},
   "source": [
    "### Predicting the test data with the built model"
   ]
  },
  {
   "cell_type": "code",
   "execution_count": 612,
   "metadata": {
    "scrolled": true
   },
   "outputs": [
    {
     "data": {
      "text/plain": [
       "<contextlib.closing at 0x315f8ca10>"
      ]
     },
     "execution_count": 612,
     "metadata": {},
     "output_type": "execute_result"
    }
   ],
   "source": [
    "\n",
    "# Load the trained model\n",
    "crf_model = pycrfsuite.Tagger()\n",
    "crf_model.open('crf_m_o_d_e_l.crfsuite')\n"
   ]
  },
  {
   "cell_type": "code",
   "execution_count": 613,
   "metadata": {},
   "outputs": [
    {
     "data": {
      "text/plain": [
       "[['FOR', 'Duration', 'TO', 'Duration', 'DurationUnit'],\n",
       " ['EVERY', 'Period', 'PeriodUnit'],\n",
       " ['WHEN'],\n",
       " ['Method', 'Qty', 'Form', 'TID', 'PO'],\n",
       " ['EVERY', 'Period', 'TO', 'PeriodMax', 'PeriodUnit'],\n",
       " ['EVERY', 'Period', 'PeriodUnit'],\n",
       " ['Qty', 'Form', 'BEFORE', 'WHEN', 'AND', 'WHEN'],\n",
       " ['Qty', 'Form', 'Frequency', 'Period', 'PeriodUnit'],\n",
       " ['Method', 'Qty', 'Form', 'BEFORE', 'WHEN'],\n",
       " ['Method',\n",
       "  'Qty',\n",
       "  'Form',\n",
       "  'PO',\n",
       "  'TID',\n",
       "  'FOR',\n",
       "  'Duration',\n",
       "  'DurationUnit',\n",
       "  'AT',\n",
       "  'WHEN'],\n",
       " ['FOR', 'Duration', 'DurationUnit'],\n",
       " ['FOR', 'Duration', 'DurationUnit']]"
      ]
     },
     "execution_count": 613,
     "metadata": {},
     "output_type": "execute_result"
    }
   ],
   "source": [
    "# Predict the labels for the test data\n",
    "y_pred = [crf_model.tag(x) for x in X_test]\n",
    "\n",
    "# Flatten the predictions and true labels for evaluation\n",
    "y_pred_flat = [item for sublist in y_pred for item in sublist]\n",
    "y_test_flat = [item for sublist in y_test for item in sublist]\n",
    "y_pred"
   ]
  },
  {
   "cell_type": "code",
   "execution_count": 614,
   "metadata": {},
   "outputs": [
    {
     "data": {
      "text/plain": [
       "0.9444444444444444"
      ]
     },
     "execution_count": 614,
     "metadata": {},
     "output_type": "execute_result"
    }
   ],
   "source": [
    "\n",
    "# Calculate accuracy\n",
    "accuracy = accuracy_score(y_test_flat, y_pred_flat)\n",
    "accuracy\n"
   ]
  },
  {
   "cell_type": "code",
   "execution_count": 615,
   "metadata": {},
   "outputs": [
    {
     "name": "stdout",
     "output_type": "stream",
     "text": [
      "Classification Report:\n",
      "              precision    recall  f1-score   support\n",
      "\n",
      "         AND       1.00      1.00      1.00         1\n",
      "          AT       1.00      1.00      1.00         1\n",
      "      BEFORE       1.00      1.00      1.00         2\n",
      "         BID       1.00      0.00      0.00         2\n",
      "    Duration       0.80      1.00      0.89         4\n",
      " DurationMax       1.00      0.00      0.00         1\n",
      "DurationUnit       1.00      1.00      1.00         4\n",
      "       EVERY       1.00      1.00      1.00         3\n",
      "         FOR       1.00      1.00      1.00         4\n",
      "        Form       1.00      1.00      1.00         5\n",
      "   Frequency       1.00      1.00      1.00         1\n",
      "      Method       1.00      1.00      1.00         3\n",
      "          PO       1.00      1.00      1.00         2\n",
      "      Period       1.00      1.00      1.00         4\n",
      "   PeriodMax       1.00      1.00      1.00         1\n",
      "  PeriodUnit       1.00      1.00      1.00         4\n",
      "         Qty       1.00      1.00      1.00         5\n",
      "         TID       0.50      1.00      0.67         1\n",
      "          TO       1.00      1.00      1.00         2\n",
      "        WHEN       0.80      1.00      0.89         4\n",
      "\n",
      "    accuracy                           0.94        54\n",
      "   macro avg       0.96      0.90      0.87        54\n",
      "weighted avg       0.96      0.94      0.92        54\n",
      "\n"
     ]
    }
   ],
   "source": [
    "# Generate classification report with zero_division parameter to handle undefined metrics\n",
    "\n",
    "report = classification_report(y_test_flat, y_pred_flat, zero_division=1)\n",
    "\n",
    "# Print the classification report\n",
    "print(\"Classification Report:\")\n",
    "print(report)\n",
    "\n"
   ]
  },
  {
   "cell_type": "markdown",
   "metadata": {},
   "source": [
    "The classification report shows that model performs well with an overall accuracy of 94%. It has perfect precision and recall for most labels (like \"AND,\" \"AT,\" \"Form\"), but struggles with some labels like \"BID\" and \"DurationMax\" (recall of 0.00), meaning it didn't correctly identify any instances of those labels. The model's F1-score is generally high, except for certain labels. "
   ]
  },
  {
   "cell_type": "markdown",
   "metadata": {},
   "source": [
    "### Putting all the prediction logic inside a predict method"
   ]
  },
  {
   "cell_type": "code",
   "execution_count": 618,
   "metadata": {},
   "outputs": [],
   "source": [
    "def get_features_from_sentence(sentence):\n",
    "    \"\"\"\n",
    "    Converts a sentence into features using the feature extraction method for CRF.\n",
    "    @param sentence: The sentence to be processed\n",
    "    @return: List of feature dictionaries for each word in the sentence\n",
    "    \"\"\"\n",
    "    words = sentence.split()  # Split sentence into words\n",
    "    features = []\n",
    "    for word in words:\n",
    "        word_features = {\n",
    "            'word': word,\n",
    "            'is_first': word == words[0],\n",
    "            'is_last': word == words[-1],\n",
    "            'word_len': len(word),\n",
    "        }\n",
    "        features.append(word_features)\n",
    "    return features\n",
    "\n",
    "def predict(sig):\n",
    "    \"\"\"\n",
    "    predict(sig)\n",
    "    Purpose: Labels the given sig into corresponding labels\n",
    "    @param sig: A Sentence (A medical prescription sig written by a doctor)\n",
    "    @return: A list with predicted labels (first level of labeling)\n",
    "    \"\"\"\n",
    "   # Load the pre-trained model\n",
    "    crf_model = pycrfsuite.Tagger()\n",
    "    crf_model.open('crf_m_o_d_e_l.crfsuite')\n",
    "    \n",
    "    # Extract features from the input sentence\n",
    "    features = get_features_from_sentence(sig)\n",
    "    \n",
    "    # Predict the labels using the trained CRF model\n",
    "    predicted_labels = crf_model.tag(features)\n",
    "    \n",
    "    # Format the output in the desired format\n",
    "    predictions = [[sig.split()] + [predicted_labels]]  # Format the output as a list of list with sentence and labels\n",
    "\n",
    "    return predictions\n"
   ]
  },
  {
   "cell_type": "markdown",
   "metadata": {},
   "source": [
    "### Sample predictions"
   ]
  },
  {
   "cell_type": "code",
   "execution_count": 620,
   "metadata": {},
   "outputs": [
    {
     "data": {
      "text/plain": [
       "[[['take', '2', 'tabs', 'every', '6', 'hours', 'x', '10', 'days'],\n",
       "  ['Method',\n",
       "   'Qty',\n",
       "   'Form',\n",
       "   'EVERY',\n",
       "   'Period',\n",
       "   'PeriodUnit',\n",
       "   'FOR',\n",
       "   'Duration',\n",
       "   'DurationUnit']]]"
      ]
     },
     "execution_count": 620,
     "metadata": {},
     "output_type": "execute_result"
    }
   ],
   "source": [
    "predictions = predict(\"take 2 tabs every 6 hours x 10 days\")\n",
    "predictions"
   ]
  },
  {
   "cell_type": "code",
   "execution_count": 621,
   "metadata": {},
   "outputs": [
    {
     "data": {
      "text/plain": [
       "[[['2', 'capsu', 'for', '10', 'day', 'at', 'bed'],\n",
       "  ['Duration',\n",
       "   'DurationUnit',\n",
       "   'FOR',\n",
       "   'Duration',\n",
       "   'DurationUnit',\n",
       "   'AT',\n",
       "   'WHEN']]]"
      ]
     },
     "execution_count": 621,
     "metadata": {},
     "output_type": "execute_result"
    }
   ],
   "source": [
    "predictions = predict(\"2 capsu for 10 day at bed\")\n",
    "predictions"
   ]
  },
  {
   "cell_type": "code",
   "execution_count": 622,
   "metadata": {},
   "outputs": [
    {
     "data": {
      "text/plain": [
       "[[['2', 'capsu', 'for', '10', 'days', 'at', 'bed'],\n",
       "  ['Duration',\n",
       "   'DurationUnit',\n",
       "   'FOR',\n",
       "   'Duration',\n",
       "   'DurationUnit',\n",
       "   'AT',\n",
       "   'WHEN']]]"
      ]
     },
     "execution_count": 622,
     "metadata": {},
     "output_type": "execute_result"
    }
   ],
   "source": [
    "predictions = predict(\"2 capsu for 10 days at bed\")\n",
    "predictions"
   ]
  },
  {
   "cell_type": "code",
   "execution_count": 623,
   "metadata": {},
   "outputs": [
    {
     "data": {
      "text/plain": [
       "[[['5', 'days', '2', 'tabs', 'at', 'bed'],\n",
       "  ['Duration', 'DurationUnit', 'Qty', 'Form', 'AT', 'WHEN']]]"
      ]
     },
     "execution_count": 623,
     "metadata": {},
     "output_type": "execute_result"
    }
   ],
   "source": [
    "predictions = predict(\"5 days 2 tabs at bed\")\n",
    "predictions"
   ]
  },
  {
   "cell_type": "code",
   "execution_count": 624,
   "metadata": {},
   "outputs": [
    {
     "data": {
      "text/plain": [
       "[[['3', 'tabs', 'qid', 'x', '10', 'weeks'],\n",
       "  ['Qty', 'Form', 'QID', 'FOR', 'Duration', 'DurationUnit']]]"
      ]
     },
     "execution_count": 624,
     "metadata": {},
     "output_type": "execute_result"
    }
   ],
   "source": [
    "predictions = predict(\"3 tabs qid x 10 weeks\")\n",
    "predictions"
   ]
  },
  {
   "cell_type": "code",
   "execution_count": 625,
   "metadata": {},
   "outputs": [
    {
     "data": {
      "text/plain": [
       "[[['x', '30', 'days'], ['FOR', 'Duration', 'DurationUnit']]]"
      ]
     },
     "execution_count": 625,
     "metadata": {},
     "output_type": "execute_result"
    }
   ],
   "source": [
    "predictions = predict(\"x 30 days\")\n",
    "predictions"
   ]
  },
  {
   "cell_type": "code",
   "execution_count": 626,
   "metadata": {},
   "outputs": [
    {
     "data": {
      "text/plain": [
       "[[['x', '20', 'months'], ['FOR', 'Duration', 'DurationUnit']]]"
      ]
     },
     "execution_count": 626,
     "metadata": {},
     "output_type": "execute_result"
    }
   ],
   "source": [
    "predictions = predict(\"x 20 months\")\n",
    "predictions"
   ]
  },
  {
   "cell_type": "code",
   "execution_count": 627,
   "metadata": {},
   "outputs": [
    {
     "data": {
      "text/plain": [
       "[[['take', '2', 'tabs', 'po', 'tid', 'for', '10', 'days'],\n",
       "  ['Method', 'Qty', 'Form', 'PO', 'TID', 'FOR', 'Duration', 'DurationUnit']]]"
      ]
     },
     "execution_count": 627,
     "metadata": {},
     "output_type": "execute_result"
    }
   ],
   "source": [
    "predictions = predict(\"take 2 tabs po tid for 10 days\")\n",
    "predictions"
   ]
  },
  {
   "cell_type": "code",
   "execution_count": 628,
   "metadata": {},
   "outputs": [
    {
     "data": {
      "text/plain": [
       "[[['take', '2', 'capsules', 'po', 'every', '6', 'hours'],\n",
       "  ['Method', 'Qty', 'Form', 'PO', 'EVERY', 'Period', 'PeriodUnit']]]"
      ]
     },
     "execution_count": 628,
     "metadata": {},
     "output_type": "execute_result"
    }
   ],
   "source": [
    "predictions = predict(\"take 2 capsules po every 6 hours\")\n",
    "predictions"
   ]
  },
  {
   "cell_type": "code",
   "execution_count": 629,
   "metadata": {},
   "outputs": [
    {
     "data": {
      "text/plain": [
       "[[['inject', '2', 'units', 'pu', 'tid'],\n",
       "  ['FOR', 'Duration', 'DurationUnit', 'Duration', 'DurationUnit']]]"
      ]
     },
     "execution_count": 629,
     "metadata": {},
     "output_type": "execute_result"
    }
   ],
   "source": [
    "predictions = predict(\"inject 2 units pu tid\")\n",
    "predictions"
   ]
  },
  {
   "cell_type": "code",
   "execution_count": 630,
   "metadata": {},
   "outputs": [
    {
     "data": {
      "text/plain": [
       "[[['swallow', '3', 'caps', 'tid', 'by', 'mouth'],\n",
       "  ['FOR', 'Duration', 'DurationUnit', 'TID', 'BY', 'PO']]]"
      ]
     },
     "execution_count": 630,
     "metadata": {},
     "output_type": "execute_result"
    }
   ],
   "source": [
    "predictions = predict(\"swallow 3 caps tid by mouth\")\n",
    "predictions"
   ]
  },
  {
   "cell_type": "code",
   "execution_count": 631,
   "metadata": {},
   "outputs": [
    {
     "data": {
      "text/plain": [
       "[[['inject', '3', 'units', 'orally'],\n",
       "  ['FOR', 'Duration', 'DurationUnit', 'THEN']]]"
      ]
     },
     "execution_count": 631,
     "metadata": {},
     "output_type": "execute_result"
    }
   ],
   "source": [
    "predictions = predict(\"inject 3 units orally\")\n",
    "predictions"
   ]
  },
  {
   "cell_type": "code",
   "execution_count": 632,
   "metadata": {},
   "outputs": [
    {
     "data": {
      "text/plain": [
       "[[['orally', 'take', '3', 'tabs', 'tid'],\n",
       "  ['FOR', 'Duration', 'DurationUnit', 'Duration', 'DurationUnit']]]"
      ]
     },
     "execution_count": 632,
     "metadata": {},
     "output_type": "execute_result"
    }
   ],
   "source": [
    "predictions = predict(\"orally take 3 tabs tid\")\n",
    "predictions"
   ]
  },
  {
   "cell_type": "code",
   "execution_count": 633,
   "metadata": {},
   "outputs": [
    {
     "data": {
      "text/plain": [
       "[[['by', 'mouth', 'take', 'three', 'caps'],\n",
       "  ['BY', 'PO', 'FOR', 'Duration', 'DurationUnit']]]"
      ]
     },
     "execution_count": 633,
     "metadata": {},
     "output_type": "execute_result"
    }
   ],
   "source": [
    "predictions = predict(\"by mouth take three caps\")\n",
    "predictions"
   ]
  },
  {
   "cell_type": "code",
   "execution_count": 634,
   "metadata": {},
   "outputs": [
    {
     "data": {
      "text/plain": [
       "[[['take',\n",
       "   '3',\n",
       "   'tabs',\n",
       "   'orally',\n",
       "   'three',\n",
       "   'times',\n",
       "   'a',\n",
       "   'day',\n",
       "   'for',\n",
       "   '10',\n",
       "   'days',\n",
       "   'at',\n",
       "   'bedtime'],\n",
       "  ['Method',\n",
       "   'Qty',\n",
       "   'Form',\n",
       "   'Duration',\n",
       "   'DurationUnit',\n",
       "   'TIMES',\n",
       "   'Period',\n",
       "   'PeriodUnit',\n",
       "   'FOR',\n",
       "   'Duration',\n",
       "   'DurationUnit',\n",
       "   'AT',\n",
       "   'WHEN']]]"
      ]
     },
     "execution_count": 634,
     "metadata": {},
     "output_type": "execute_result"
    }
   ],
   "source": [
    "predictions = predict(\"take 3 tabs orally three times a day for 10 days at bedtime\")\n",
    "predictions"
   ]
  },
  {
   "cell_type": "code",
   "execution_count": 635,
   "metadata": {},
   "outputs": [
    {
     "data": {
      "text/plain": [
       "[[['take', '3', 'tabs', 'orally', 'bid', 'for', '10', 'days', 'at', 'bedtime'],\n",
       "  ['Method',\n",
       "   'Qty',\n",
       "   'Form',\n",
       "   'Duration',\n",
       "   'DurationUnit',\n",
       "   'FOR',\n",
       "   'Duration',\n",
       "   'DurationUnit',\n",
       "   'AT',\n",
       "   'WHEN']]]"
      ]
     },
     "execution_count": 635,
     "metadata": {},
     "output_type": "execute_result"
    }
   ],
   "source": [
    "predictions = predict(\"take 3 tabs orally bid for 10 days at bedtime\")\n",
    "predictions"
   ]
  },
  {
   "cell_type": "code",
   "execution_count": 636,
   "metadata": {},
   "outputs": [
    {
     "data": {
      "text/plain": [
       "[[['take', '3', 'tabs', 'bid', 'orally', 'at', 'bed'],\n",
       "  ['Method', 'Qty', 'Form', 'Frequency', 'FOR', 'Duration', 'DurationUnit']]]"
      ]
     },
     "execution_count": 636,
     "metadata": {},
     "output_type": "execute_result"
    }
   ],
   "source": [
    "predictions = predict(\"take 3 tabs bid orally at bed\")\n",
    "predictions"
   ]
  },
  {
   "cell_type": "code",
   "execution_count": 637,
   "metadata": {},
   "outputs": [
    {
     "data": {
      "text/plain": [
       "[[['take', '10', 'capsules', 'by', 'mouth', 'qid'],\n",
       "  ['FOR', 'Duration', 'DurationUnit', 'FOR', 'Duration', 'DurationUnit']]]"
      ]
     },
     "execution_count": 637,
     "metadata": {},
     "output_type": "execute_result"
    }
   ],
   "source": [
    "predictions = predict(\"take 10 capsules by mouth qid\")\n",
    "predictions"
   ]
  },
  {
   "cell_type": "code",
   "execution_count": 638,
   "metadata": {},
   "outputs": [
    {
     "data": {
      "text/plain": [
       "[[['inject', '10', 'units', 'orally', 'qid', 'x', '3', 'months'],\n",
       "  ['FOR',\n",
       "   'Duration',\n",
       "   'DurationUnit',\n",
       "   'THEN',\n",
       "   'QID',\n",
       "   'FOR',\n",
       "   'Duration',\n",
       "   'DurationUnit']]]"
      ]
     },
     "execution_count": 638,
     "metadata": {},
     "output_type": "execute_result"
    }
   ],
   "source": [
    "predictions = predict(\"inject 10 units orally qid x 3 months\")\n",
    "predictions"
   ]
  },
  {
   "cell_type": "code",
   "execution_count": 639,
   "metadata": {},
   "outputs": [
    {
     "data": {
      "text/plain": [
       "[[['inject', '10', 'units', 'orally', 'qid', 'x', '3', 'months'],\n",
       "  ['FOR',\n",
       "   'Duration',\n",
       "   'DurationUnit',\n",
       "   'THEN',\n",
       "   'QID',\n",
       "   'FOR',\n",
       "   'Duration',\n",
       "   'DurationUnit']]]"
      ]
     },
     "execution_count": 639,
     "metadata": {},
     "output_type": "execute_result"
    }
   ],
   "source": [
    "prediction = predict(\"please take 2 tablets per day for a month in the morning and evening each day\")\n",
    "predictions"
   ]
  },
  {
   "cell_type": "code",
   "execution_count": 640,
   "metadata": {},
   "outputs": [
    {
     "data": {
      "text/plain": [
       "[[['inject', '10', 'units', 'orally', 'qid', 'x', '3', 'months'],\n",
       "  ['FOR',\n",
       "   'Duration',\n",
       "   'DurationUnit',\n",
       "   'THEN',\n",
       "   'QID',\n",
       "   'FOR',\n",
       "   'Duration',\n",
       "   'DurationUnit']]]"
      ]
     },
     "execution_count": 640,
     "metadata": {},
     "output_type": "execute_result"
    }
   ],
   "source": [
    "prediction = predict(\"Amoxcicillin QID 30 tablets\")\n",
    "predictions"
   ]
  },
  {
   "cell_type": "code",
   "execution_count": 641,
   "metadata": {},
   "outputs": [
    {
     "data": {
      "text/plain": [
       "[[['take', '3', 'tabs', 'TID', 'for', '90', 'days', 'with', 'food'],\n",
       "  ['Method',\n",
       "   'Qty',\n",
       "   'Form',\n",
       "   'Frequency',\n",
       "   'FOR',\n",
       "   'Duration',\n",
       "   'DurationUnit',\n",
       "   'WITH',\n",
       "   'FOOD']]]"
      ]
     },
     "execution_count": 641,
     "metadata": {},
     "output_type": "execute_result"
    }
   ],
   "source": [
    "prediction = predict(\"take 3 tabs TID for 90 days with food\")\n",
    "prediction"
   ]
  },
  {
   "cell_type": "code",
   "execution_count": 642,
   "metadata": {},
   "outputs": [
    {
     "data": {
      "text/plain": [
       "[[['with', 'food', 'take', '3', 'tablets', 'per', 'day', 'for', '90', 'days'],\n",
       "  ['WITH',\n",
       "   'FOOD',\n",
       "   'FOR',\n",
       "   'Duration',\n",
       "   'DurationUnit',\n",
       "   'Duration',\n",
       "   'DurationUnit',\n",
       "   'FOR',\n",
       "   'Duration',\n",
       "   'DurationUnit']]]"
      ]
     },
     "execution_count": 642,
     "metadata": {},
     "output_type": "execute_result"
    }
   ],
   "source": [
    "prediction = predict(\"with food take 3 tablets per day for 90 days\")\n",
    "prediction"
   ]
  },
  {
   "cell_type": "code",
   "execution_count": 643,
   "metadata": {},
   "outputs": [
    {
     "name": "stdout",
     "output_type": "stream",
     "text": [
      "[[['with', 'food', 'take', '3', 'tablets', 'per', 'week', 'for', '90', 'weeks'], ['WITH', 'FOOD', 'FOR', 'Duration', 'DurationUnit', 'Duration', 'DurationUnit', 'FOR', 'Duration', 'DurationUnit']]]\n"
     ]
    }
   ],
   "source": [
    "prediction = predict(\"with food take 3 tablets per week for 90 weeks\")\n",
    "print(prediction)"
   ]
  },
  {
   "cell_type": "code",
   "execution_count": 644,
   "metadata": {},
   "outputs": [
    {
     "name": "stdout",
     "output_type": "stream",
     "text": [
      "[[['take', '2-4', 'tabs'], ['Method', 'Qty', 'Form']]]\n"
     ]
    }
   ],
   "source": [
    "prediction = predict(\"take 2-4 tabs\")\n",
    "print(prediction)"
   ]
  },
  {
   "cell_type": "code",
   "execution_count": 645,
   "metadata": {},
   "outputs": [
    {
     "data": {
      "text/plain": [
       "[[['take', '2', 'to', '4', 'tabs'],\n",
       "  ['FOR', 'Duration', 'DurationUnit', 'Qty', 'Form']]]"
      ]
     },
     "execution_count": 645,
     "metadata": {},
     "output_type": "execute_result"
    }
   ],
   "source": [
    "prediction = predict(\"take 2 to 4 tabs\")\n",
    "prediction"
   ]
  },
  {
   "cell_type": "code",
   "execution_count": 646,
   "metadata": {},
   "outputs": [
    {
     "data": {
      "text/plain": [
       "[[['take', 'two', 'to', 'four', 'tabs'],\n",
       "  ['FOR', 'Duration', 'DurationUnit', 'Qty', 'Form']]]"
      ]
     },
     "execution_count": 646,
     "metadata": {},
     "output_type": "execute_result"
    }
   ],
   "source": [
    "prediction = predict(\"take two to four tabs\")\n",
    "prediction"
   ]
  },
  {
   "cell_type": "code",
   "execution_count": 647,
   "metadata": {},
   "outputs": [
    {
     "data": {
      "text/plain": [
       "[[['take', '2-4', 'tabs', 'for', '8', 'to', '9', 'days'],\n",
       "  ['Method',\n",
       "   'Qty',\n",
       "   'Form',\n",
       "   'FOR',\n",
       "   'Duration',\n",
       "   'DurationUnit',\n",
       "   'Duration',\n",
       "   'DurationUnit']]]"
      ]
     },
     "execution_count": 647,
     "metadata": {},
     "output_type": "execute_result"
    }
   ],
   "source": [
    "prediction = predict(\"take 2-4 tabs for 8 to 9 days\")\n",
    "prediction"
   ]
  },
  {
   "cell_type": "code",
   "execution_count": 648,
   "metadata": {},
   "outputs": [
    {
     "data": {
      "text/plain": [
       "[[['take', '20', 'tabs', 'every', '6', 'to', '8', 'days'],\n",
       "  ['Method',\n",
       "   'Qty',\n",
       "   'Form',\n",
       "   'EVERY',\n",
       "   'Period',\n",
       "   'FOR',\n",
       "   'Duration',\n",
       "   'DurationUnit']]]"
      ]
     },
     "execution_count": 648,
     "metadata": {},
     "output_type": "execute_result"
    }
   ],
   "source": [
    "prediction = predict(\"take 20 tabs every 6 to 8 days\")\n",
    "prediction"
   ]
  },
  {
   "cell_type": "code",
   "execution_count": 649,
   "metadata": {},
   "outputs": [
    {
     "data": {
      "text/plain": [
       "[[['take', '2', 'tabs', 'every', '4', 'to', '6', 'days'],\n",
       "  ['Method',\n",
       "   'Qty',\n",
       "   'Form',\n",
       "   'EVERY',\n",
       "   'Period',\n",
       "   'FOR',\n",
       "   'Duration',\n",
       "   'DurationUnit']]]"
      ]
     },
     "execution_count": 649,
     "metadata": {},
     "output_type": "execute_result"
    }
   ],
   "source": [
    "prediction = predict(\"take 2 tabs every 4 to 6 days\")\n",
    "prediction"
   ]
  },
  {
   "cell_type": "code",
   "execution_count": 650,
   "metadata": {},
   "outputs": [
    {
     "data": {
      "text/plain": [
       "[[['take', '2', 'tabs', 'every', '2', 'to', '10', 'weeks'],\n",
       "  ['Method',\n",
       "   'Qty',\n",
       "   'Form',\n",
       "   'EVERY',\n",
       "   'Period',\n",
       "   'FOR',\n",
       "   'Duration',\n",
       "   'DurationUnit']]]"
      ]
     },
     "execution_count": 650,
     "metadata": {},
     "output_type": "execute_result"
    }
   ],
   "source": [
    "prediction = predict(\"take 2 tabs every 2 to 10 weeks\")\n",
    "prediction"
   ]
  },
  {
   "cell_type": "code",
   "execution_count": 651,
   "metadata": {},
   "outputs": [
    {
     "data": {
      "text/plain": [
       "[[['take', '2', 'tabs', 'every', '4', 'to', '6', 'days'],\n",
       "  ['Method',\n",
       "   'Qty',\n",
       "   'Form',\n",
       "   'EVERY',\n",
       "   'Period',\n",
       "   'FOR',\n",
       "   'Duration',\n",
       "   'DurationUnit']]]"
      ]
     },
     "execution_count": 651,
     "metadata": {},
     "output_type": "execute_result"
    }
   ],
   "source": [
    "prediction = predict(\"take 2 tabs every 4 to 6 days\")\n",
    "prediction"
   ]
  },
  {
   "cell_type": "code",
   "execution_count": 652,
   "metadata": {},
   "outputs": [
    {
     "data": {
      "text/plain": [
       "[[['take', '2', 'tabs', 'every', '2', 'to', '10', 'months'],\n",
       "  ['Method',\n",
       "   'Qty',\n",
       "   'Form',\n",
       "   'EVERY',\n",
       "   'Period',\n",
       "   'FOR',\n",
       "   'Duration',\n",
       "   'DurationUnit']]]"
      ]
     },
     "execution_count": 652,
     "metadata": {},
     "output_type": "execute_result"
    }
   ],
   "source": [
    "prediction = predict(\"take 2 tabs every 2 to 10 months\")\n",
    "prediction"
   ]
  },
  {
   "cell_type": "code",
   "execution_count": 653,
   "metadata": {},
   "outputs": [
    {
     "data": {
      "text/plain": [
       "[[['every', '60', 'mins'], ['EVERY', 'Period', 'PeriodUnit']]]"
      ]
     },
     "execution_count": 653,
     "metadata": {},
     "output_type": "execute_result"
    }
   ],
   "source": [
    "prediction = predict(\"every 60 mins\")\n",
    "prediction"
   ]
  },
  {
   "cell_type": "code",
   "execution_count": 654,
   "metadata": {},
   "outputs": [
    {
     "data": {
      "text/plain": [
       "[[['every', '10', 'mins'], ['FOR', 'Duration', 'DurationUnit']]]"
      ]
     },
     "execution_count": 654,
     "metadata": {},
     "output_type": "execute_result"
    }
   ],
   "source": [
    "prediction = predict(\"every 10 mins\")\n",
    "prediction"
   ]
  },
  {
   "cell_type": "code",
   "execution_count": 655,
   "metadata": {},
   "outputs": [
    {
     "data": {
      "text/plain": [
       "[[['every', 'two', 'to', 'four', 'months'],\n",
       "  ['EVERY', 'Period', 'TO', 'PeriodMax', 'PeriodUnit']]]"
      ]
     },
     "execution_count": 655,
     "metadata": {},
     "output_type": "execute_result"
    }
   ],
   "source": [
    "prediction = predict(\"every two to four months\")\n",
    "prediction"
   ]
  },
  {
   "cell_type": "code",
   "execution_count": 656,
   "metadata": {},
   "outputs": [
    {
     "data": {
      "text/plain": [
       "[[['take', '2', 'tabs', 'every', '3', 'to', '4', 'days'],\n",
       "  ['Method',\n",
       "   'Qty',\n",
       "   'Form',\n",
       "   'EVERY',\n",
       "   'Period',\n",
       "   'FOR',\n",
       "   'Duration',\n",
       "   'DurationUnit']]]"
      ]
     },
     "execution_count": 656,
     "metadata": {},
     "output_type": "execute_result"
    }
   ],
   "source": [
    "prediction = predict(\"take 2 tabs every 3 to 4 days\")\n",
    "prediction"
   ]
  },
  {
   "cell_type": "code",
   "execution_count": 657,
   "metadata": {},
   "outputs": [
    {
     "data": {
      "text/plain": [
       "[[['every', '3', 'to', '4', 'days', 'take', '20', 'tabs'],\n",
       "  ['EVERY',\n",
       "   'Period',\n",
       "   'FOR',\n",
       "   'Duration',\n",
       "   'DurationUnit',\n",
       "   'Method',\n",
       "   'Qty',\n",
       "   'Form']]]"
      ]
     },
     "execution_count": 657,
     "metadata": {},
     "output_type": "execute_result"
    }
   ],
   "source": [
    "prediction = predict(\"every 3 to 4 days take 20 tabs\")\n",
    "prediction"
   ]
  },
  {
   "cell_type": "code",
   "execution_count": 658,
   "metadata": {},
   "outputs": [
    {
     "data": {
      "text/plain": [
       "[[['once', 'in', 'every', '3', 'days', 'take', '3', 'tabs'],\n",
       "  ['FOR',\n",
       "   'Duration',\n",
       "   'DurationUnit',\n",
       "   'Duration',\n",
       "   'DurationUnit',\n",
       "   'Method',\n",
       "   'Qty',\n",
       "   'Form']]]"
      ]
     },
     "execution_count": 658,
     "metadata": {},
     "output_type": "execute_result"
    }
   ],
   "source": [
    "prediction = predict(\"once in every 3 days take 3 tabs\")\n",
    "prediction"
   ]
  },
  {
   "cell_type": "code",
   "execution_count": 659,
   "metadata": {},
   "outputs": [
    {
     "data": {
      "text/plain": [
       "[[['take', '3', 'tabs', 'once', 'in', 'every', '3', 'days'],\n",
       "  ['Method',\n",
       "   'Qty',\n",
       "   'Form',\n",
       "   'FOR',\n",
       "   'Duration',\n",
       "   'DurationUnit',\n",
       "   'Duration',\n",
       "   'DurationUnit']]]"
      ]
     },
     "execution_count": 659,
     "metadata": {},
     "output_type": "execute_result"
    }
   ],
   "source": [
    "prediction = predict(\"take 3 tabs once in every 3 days\")\n",
    "prediction"
   ]
  },
  {
   "cell_type": "code",
   "execution_count": 660,
   "metadata": {},
   "outputs": [
    {
     "data": {
      "text/plain": [
       "[[['orally', 'take', '20', 'tabs', 'every', '4-6', 'weeks'],\n",
       "  ['FOR',\n",
       "   'Duration',\n",
       "   'DurationUnit',\n",
       "   'TID',\n",
       "   'FOR',\n",
       "   'Duration',\n",
       "   'DurationUnit']]]"
      ]
     },
     "execution_count": 660,
     "metadata": {},
     "output_type": "execute_result"
    }
   ],
   "source": [
    "prediction = predict(\"orally take 20 tabs every 4-6 weeks\")\n",
    "prediction"
   ]
  },
  {
   "cell_type": "code",
   "execution_count": 661,
   "metadata": {},
   "outputs": [
    {
     "data": {
      "text/plain": [
       "[[['10', 'tabs', 'x', '2', 'days'],\n",
       "  ['Duration', 'DurationUnit', 'FOR', 'Duration', 'DurationUnit']]]"
      ]
     },
     "execution_count": 661,
     "metadata": {},
     "output_type": "execute_result"
    }
   ],
   "source": [
    "prediction = predict(\"10 tabs x 2 days\")\n",
    "prediction"
   ]
  },
  {
   "cell_type": "code",
   "execution_count": 662,
   "metadata": {},
   "outputs": [
    {
     "data": {
      "text/plain": [
       "[[['3', 'capsule', 'x', '15', 'days'],\n",
       "  ['Duration', 'DurationUnit', 'FOR', 'Duration', 'DurationUnit']]]"
      ]
     },
     "execution_count": 662,
     "metadata": {},
     "output_type": "execute_result"
    }
   ],
   "source": [
    "prediction = predict(\"3 capsule x 15 days\")\n",
    "prediction"
   ]
  },
  {
   "cell_type": "code",
   "execution_count": 663,
   "metadata": {},
   "outputs": [
    {
     "data": {
      "text/plain": [
       "[[['10', 'tabs'], ['Duration', 'DurationUnit']]]"
      ]
     },
     "execution_count": 663,
     "metadata": {},
     "output_type": "execute_result"
    }
   ],
   "source": [
    "prediction = predict(\"10 tabs\")\n",
    "prediction"
   ]
  }
 ],
 "metadata": {
  "kernelspec": {
   "display_name": "Python [conda env:base] *",
   "language": "python",
   "name": "conda-base-py"
  },
  "language_info": {
   "codemirror_mode": {
    "name": "ipython",
    "version": 3
   },
   "file_extension": ".py",
   "mimetype": "text/x-python",
   "name": "python",
   "nbconvert_exporter": "python",
   "pygments_lexer": "ipython3",
   "version": "3.12.2"
  }
 },
 "nbformat": 4,
 "nbformat_minor": 4
}
